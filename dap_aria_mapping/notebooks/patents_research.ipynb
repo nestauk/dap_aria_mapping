{
 "cells": [
  {
   "cell_type": "code",
   "execution_count": 31,
   "id": "e8c1e65a",
   "metadata": {},
   "outputs": [],
   "source": [
    "from dap_aria_mapping.utils.conn import est_conn"
   ]
  },
  {
   "cell_type": "markdown",
   "id": "5aa1f119",
   "metadata": {},
   "source": [
    "### 0. Establish bigquery connection "
   ]
  },
  {
   "cell_type": "code",
   "execution_count": 32,
   "id": "386caed3",
   "metadata": {},
   "outputs": [],
   "source": [
    "conn = est_conn()"
   ]
  },
  {
   "cell_type": "markdown",
   "id": "5d45dad3",
   "metadata": {},
   "source": [
    "### 1. How many patents there are where the INVENTOR is based in the UK and that were first filed within 2016 - 2021 inclusive?"
   ]
  },
  {
   "cell_type": "markdown",
   "id": "5f2c4a42",
   "metadata": {},
   "source": [
    "#### 1.1 NOT de-duplicating patents based on family id"
   ]
  },
  {
   "cell_type": "code",
   "execution_count": 33,
   "id": "77083d7d",
   "metadata": {},
   "outputs": [
    {
     "name": "stdout",
     "output_type": "stream",
     "text": [
      "there are 275458 patent documents of patents where the inventor is based in the UK and the patent was first filed between 2016 and 2021.\n"
     ]
    }
   ],
   "source": [
    "q = \"select DISTINCT publication_number from `patents-public-data.patents.publications`, unnest(inventor_harmonized) as inventor where cast(filing_date as string) between '20160101' and '20211231' and inventor.country_code = 'GB'\"\n",
    "query_job = conn.query(q)\n",
    "results = query_job.result()  # Wait for query to complete.\n",
    "print(f\"there are {results.total_rows} patent documents of patents where the inventor is based in the UK and the patent was first filed between 2016 and 2021.\") "
   ]
  },
  {
   "cell_type": "markdown",
   "id": "758e73a9",
   "metadata": {},
   "source": [
    "#### 1.2 de-duplicating patents based on family id"
   ]
  },
  {
   "cell_type": "code",
   "execution_count": 34,
   "id": "d4dea27b",
   "metadata": {},
   "outputs": [
    {
     "name": "stdout",
     "output_type": "stream",
     "text": [
      "there are 89375 patent documents of patent families where the inventor is based in the UK and the patent was first filed between 2016 and 2021.\n"
     ]
    }
   ],
   "source": [
    "q = \"select DISTINCT family_id from `patents-public-data.patents.publications`, unnest(inventor_harmonized) as inventor, unnest(abstract_localized) as abstract where cast(filing_date as string) between '20160101' and '20211231' and inventor.country_code = 'GB' GROUP BY family_id\"\n",
    "query_job = conn.query(q)\n",
    "results = query_job.result()  # Wait for query to complete.\n",
    "print(f\"there are {results.total_rows} patent documents of patent families where the inventor is based in the UK and the patent was first filed between 2016 and 2021.\") "
   ]
  },
  {
   "cell_type": "markdown",
   "id": "7e1931de",
   "metadata": {},
   "source": [
    "#### 1.3 de-duplicating on family id AND language (abstract = english)"
   ]
  },
  {
   "cell_type": "code",
   "execution_count": 35,
   "id": "ba2795b4",
   "metadata": {},
   "outputs": [
    {
     "name": "stdout",
     "output_type": "stream",
     "text": [
      "there are 87964 patent documents of patent families where the inventor is based in the UK, the patent was first filed between 2016 and 2021 and there is at least one document in the family with an english language abstract.\n"
     ]
    }
   ],
   "source": [
    "q = \"select DISTINCT family_id from `patents-public-data.patents.publications`, unnest(inventor_harmonized) as inventor, unnest(abstract_localized) as abstract where cast(filing_date as string) between '20160101' and '20211231' and inventor.country_code = 'GB' and abstract.language = 'en' GROUP BY family_id\"\n",
    "query_job = conn.query(q)\n",
    "results = query_job.result()  # Wait for query to complete.\n",
    "print(f\"there are {results.total_rows} patent documents of patent families where the inventor is based in the UK, the patent was first filed between 2016 and 2021 and there is at least one document in the family with an english language abstract.\") "
   ]
  },
  {
   "cell_type": "markdown",
   "id": "9e0c4bc4",
   "metadata": {},
   "source": [
    "### 2. How many patents there are where the ASSIGNEE is based in the UK and that were first filed within 2016 - 2021 inclusive?"
   ]
  },
  {
   "cell_type": "markdown",
   "id": "ac7241bd",
   "metadata": {},
   "source": [
    "#### 1.1 NOT de-duplicating patents based on family id"
   ]
  },
  {
   "cell_type": "code",
   "execution_count": 36,
   "id": "b27fccc1",
   "metadata": {},
   "outputs": [
    {
     "name": "stdout",
     "output_type": "stream",
     "text": [
      "there are 219645 patent documents of patents where the inventor is based in the UK and the patent was first filed between 2016 and 2021.\n"
     ]
    }
   ],
   "source": [
    "q = \"select DISTINCT publication_number from `patents-public-data.patents.publications`, unnest(assignee_harmonized) as assignee where cast(filing_date as string) between '20160101' and '20211231' and assignee.country_code = 'GB'\"\n",
    "query_job = conn.query(q)\n",
    "results = query_job.result()  # Wait for query to complete.\n",
    "print(f\"there are {results.total_rows} patent documents of patents where the inventor is based in the UK and the patent was first filed between 2016 and 2021.\") "
   ]
  },
  {
   "cell_type": "markdown",
   "id": "e15a9ef9",
   "metadata": {},
   "source": [
    "#### 1.2 de-duplicating patents based on family id"
   ]
  },
  {
   "cell_type": "code",
   "execution_count": null,
   "id": "c0ede520",
   "metadata": {},
   "outputs": [],
   "source": [
    "q = \"select DISTINCT family_id from `patents-public-data.patents.publications`, unnest(assignee_harmonized) as assignee, unnest(abstract_localized) as abstract where cast(filing_date as string) between '20160101' and '20211231' and assignee.country_code = 'GB' GROUP BY family_id\"\n",
    "query_job = conn.query(q)\n",
    "results = query_job.result()  # Wait for query to complete.\n",
    "print(f\"there are {results.total_rows} patent documents of patent families where the inventor is based in the UK and the patent was first filed between 2016 and 2021.\") "
   ]
  },
  {
   "cell_type": "markdown",
   "id": "8693cb5b",
   "metadata": {},
   "source": [
    "#### 1.3 de-duplicating on family id AND language (abstract = english)"
   ]
  },
  {
   "cell_type": "code",
   "execution_count": null,
   "id": "48659687",
   "metadata": {},
   "outputs": [],
   "source": [
    "q = \"select DISTINCT family_id from `patents-public-data.patents.publications`, unnest(assignee_harmonized) as assignee, unnest(abstract_localized) as abstract where cast(filing_date as string) between '20160101' and '20211231' and assignee.country_code = 'GB' and abstract.language = 'en' GROUP BY family_id\"\n",
    "query_job = conn.query(q)\n",
    "results = query_job.result()  # Wait for query to complete.\n",
    "print(f\"there are {results.total_rows} patent documents of patent families where the inventor is based in the UK, the patent was first filed between 2016 and 2021 and there is at least one document in the family with an english language abstract.\") "
   ]
  },
  {
   "cell_type": "markdown",
   "id": "55ce88db",
   "metadata": {},
   "source": [
    "### 3. Can we generate the same sample using a random seed in bigquery?"
   ]
  },
  {
   "cell_type": "markdown",
   "id": "748e38fd",
   "metadata": {},
   "source": [
    "No, it doesn't look like we can set a random seed in a bigquery query. Although if this is important, i think we can write standard sql and set a seed. "
   ]
  },
  {
   "cell_type": "markdown",
   "id": "ead70a74",
   "metadata": {},
   "source": [
    "### 4. Are there other tables that could be interesting?"
   ]
  },
  {
   "cell_type": "code",
   "execution_count": null,
   "id": "72c98609",
   "metadata": {},
   "outputs": [],
   "source": [
    "dataset_id = 'patents-public-data.patents'\n",
    "tables = conn.list_tables(dataset_id)\n",
    "\n",
    "print(\"Tables contained in '{}':\".format(dataset_id))\n",
    "for table in tables:\n",
    "    print(\"{}.{}.{}\".format(table.project, table.dataset_id, table.table_id))\n",
    "    \n",
    "#looks like its just different versions of patent publications"
   ]
  },
  {
   "cell_type": "markdown",
   "id": "0ece2f12",
   "metadata": {},
   "source": [
    "### 5. Are there rejected patents in google? "
   ]
  },
  {
   "cell_type": "markdown",
   "id": "409ca988",
   "metadata": {},
   "source": [
    "No, the data schema nor the bigquery results suggest that there are rejected patents in google bigquery."
   ]
  }
 ],
 "metadata": {
  "jupytext": {
   "cell_metadata_filter": "-all",
   "comment_magics": true
  },
  "kernelspec": {
   "display_name": "dap_aria_mapping",
   "language": "python",
   "name": "dap_aria_mapping"
  },
  "language_info": {
   "codemirror_mode": {
    "name": "ipython",
    "version": 3
   },
   "file_extension": ".py",
   "mimetype": "text/x-python",
   "name": "python",
   "nbconvert_exporter": "python",
   "pygments_lexer": "ipython3",
   "version": "3.9.12"
  }
 },
 "nbformat": 4,
 "nbformat_minor": 5
}
