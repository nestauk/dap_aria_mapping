{
 "cells": [
  {
   "cell_type": "code",
   "execution_count": 1,
   "id": "1a75bc2d",
   "metadata": {},
   "outputs": [],
   "source": [
    "from dap_aria_mapping.getters.docs_with_topics import openalex_with_coocc_topics, patents_with_coocc_topics\n",
    "from dap_aria_mapping.getters.taxonomies import get_cooccurrence_taxonomy\n",
    "from dap_aria_mapping.getters.patents import get_patents\n",
    "from dap_aria_mapping.getters.openalex import get_openalex_institutes, get_openalex_authorships\n",
    "from dap_aria_mapping.utils.aggregation import topic_distributions, taxonomy_distribution, topics_per_institution_distribution\n",
    "import operator\n",
    "from collections import defaultdict\n",
    "import pandas as pd\n",
    "import matplotlib.pyplot as plt\n",
    "plt.rcParams.update({'font.size': 8})\n",
    "import random\n",
    "from nesta_ds_utils.viz.altair import formatting, saving\n",
    "import altair as alt\n",
    "formatting.setup_theme()\n"
   ]
  },
  {
   "cell_type": "code",
   "execution_count": 3,
   "id": "d453857b",
   "metadata": {},
   "outputs": [],
   "source": [
    "oa = openalex_with_coocc_topics(level = 1)"
   ]
  },
  {
   "cell_type": "code",
   "execution_count": 2,
   "id": "5b76142f",
   "metadata": {},
   "outputs": [],
   "source": [
    "patents = patents_with_coocc_topics(level = 1)"
   ]
  },
  {
   "cell_type": "code",
   "execution_count": 5,
   "id": "ba144779",
   "metadata": {},
   "outputs": [],
   "source": [
    "def topic_distributions(docs):\n",
    "    absolute_dist = defaultdict(int)\n",
    "    for doc, topics in docs.items():\n",
    "        for topic in set(topics):\n",
    "            absolute_dist[topic] += 1\n",
    "    proportional_dist = defaultdict(float)\n",
    "    for key, val in absolute_dist.items():\n",
    "        proportional_dist[key] = val/len(docs)\n",
    "        \n",
    "    return absolute_dist, proportional_dist"
   ]
  },
  {
   "cell_type": "code",
   "execution_count": 250,
   "id": "7c4fbc60",
   "metadata": {},
   "outputs": [],
   "source": [
    "def institution_distributions(docs, institutions, total_institutions):\n",
    "    absolute_dist = defaultdict(lambda: defaultdict(int))\n",
    "    for doc, topics in docs.items():\n",
    "        inst_list = institutions[doc]\n",
    "        for institution in inst_list:\n",
    "            for topic in set(topics):\n",
    "                absolute_dist[topic][institution] += 1\n",
    "    proportional_dist = defaultdict(lambda: defaultdict(int))\n",
    "    for topic, institution_dict in absolute_dist.items():\n",
    "        for inst, count in institution_dict.items():\n",
    "            proportional_dist[topic][inst] = count/total_institutions\n",
    "        \n",
    "    return absolute_dist, proportional_dist"
   ]
  },
  {
   "cell_type": "code",
   "execution_count": 247,
   "id": "d64ef5a9",
   "metadata": {},
   "outputs": [],
   "source": [
    "def format_patent_institutions(patentdf):\n",
    "    all_institutions = []\n",
    "    institution_dict = defaultdict(list)\n",
    "    for i, row in patentdf.iterrows():\n",
    "        institutions = row['assignee_harmonized_names']\n",
    "        for inst in institutions:\n",
    "            institution_dict[row['publication_number']].append(inst)\n",
    "            all_institutions.append(inst)\n",
    "    return institution_dict, len(set(all_institutions))"
   ]
  },
  {
   "cell_type": "code",
   "execution_count": 396,
   "id": "5d6a78e0",
   "metadata": {},
   "outputs": [],
   "source": [
    "def format_oa_institutions(authorshipDf, institutions_lookup):\n",
    "    all_institutions = []\n",
    "    institution_dict = defaultdict(list)\n",
    "    for i, row in authorshipDf.iterrows():\n",
    "        work = row['id']\n",
    "        instId = row['inst_id']\n",
    "        try:\n",
    "            name = institutions_lookup[instId]\n",
    "        except KeyError:\n",
    "            name = instId\n",
    "            continue\n",
    "        institution_dict[work].append(name)\n",
    "        all_institutions.append(name)\n",
    "    return institution_dict, len(set(all_institutions))"
   ]
  },
  {
   "cell_type": "code",
   "execution_count": 6,
   "id": "905da641",
   "metadata": {},
   "outputs": [],
   "source": [
    "def taxonomy_distribution(taxLevel):\n",
    "    dist = defaultdict(float)\n",
    "    for taxid, count in pd.DataFrame(taxLevel.value_counts()).iterrows():\n",
    "        dist[taxid] = count[0]/len(taxLevel)\n",
    "    return dist"
   ]
  },
  {
   "cell_type": "code",
   "execution_count": 7,
   "id": "86d30bae",
   "metadata": {},
   "outputs": [],
   "source": [
    "oa_abs_dist, oa_proportion_dist = topic_distributions(oa)"
   ]
  },
  {
   "cell_type": "code",
   "execution_count": 3,
   "id": "9e123c54",
   "metadata": {},
   "outputs": [],
   "source": [
    "patent_abs_dist, patent_proportion_dist = topic_distributions(patents)"
   ]
  },
  {
   "cell_type": "code",
   "execution_count": 4,
   "id": "fb3fcb0d",
   "metadata": {},
   "outputs": [],
   "source": [
    "tax = get_cooccurrence_taxonomy()"
   ]
  },
  {
   "cell_type": "markdown",
   "id": "a065af00",
   "metadata": {},
   "source": [
    "### Distribution of Taxonomy at Level 1"
   ]
  },
  {
   "cell_type": "markdown",
   "id": "c98a80a9",
   "metadata": {},
   "source": [
    "This plot shows the percent of entities in the entire corpus allocated to each topic. The distribution is clearly quite skewed, so this needs to be considered when evaluating the proportion of documents on certain topics."
   ]
  },
  {
   "cell_type": "code",
   "execution_count": 5,
   "id": "0f4785f8",
   "metadata": {},
   "outputs": [
    {
     "data": {
      "text/plain": [
       "<BarContainer object of 25 artists>"
      ]
     },
     "execution_count": 5,
     "metadata": {},
     "output_type": "execute_result"
    },
    {
     "data": {
      "image/png": "[encoded data removed]",
      "text/plain": [
       "<Figure size 640x480 with 1 Axes>"
      ]
     },
     "metadata": {},
     "output_type": "display_data"
    }
   ],
   "source": [
    "level1tax = tax['Level_1']\n",
    "tax_dist = taxonomy_distribution(level1tax)\n",
    "plt.bar([int(key) for key in tax_dist.keys()], tax_dist.values(),tick_label = [int(key) for key in tax_dist.keys()] )"
   ]
  },
  {
   "cell_type": "markdown",
   "id": "20645e7e",
   "metadata": {},
   "source": [
    "# Proportion of Topics "
   ]
  },
  {
   "cell_type": "markdown",
   "id": "f159f04b",
   "metadata": {},
   "source": [
    "## OpenAlex"
   ]
  },
  {
   "cell_type": "code",
   "execution_count": 17,
   "id": "ca341d3f",
   "metadata": {},
   "outputs": [
    {
     "name": "stdout",
     "output_type": "stream",
     "text": [
      "          pat/pub topic   percent\n",
      "0  0_publications     0  0.213590\n",
      "1  0_publications    22  0.110441\n",
      "2  0_publications    11  0.036024\n",
      "3  0_publications    12  0.380441\n",
      "4  0_publications    20  0.109405\n"
     ]
    }
   ],
   "source": [
    "level1_topics = pd.DataFrame.from_dict(oa_proportion_dist, orient='index').join(pd.DataFrame.from_dict(patent_proportion_dist, orient='index'),lsuffix='_publications', rsuffix='_patents').unstack().reset_index().rename(columns = {\"level_0\":\"pat/pub\",\"level_1\":\"topic\",0:\"percent\"}) \n",
    "print(level1_topics.head())\n",
    "#plt.bar([int(key) for key in oa_proportion_dist.keys()], oa_proportion_dist.values(),tick_label = [int(key) for key in oa_proportion_dist.keys()] )"
   ]
  },
  {
   "cell_type": "code",
   "execution_count": 115,
   "id": "dfab50d2",
   "metadata": {},
   "outputs": [],
   "source": [
    "sort_order = level1_topics.groupby(level1_topics['topic'])['percent'].sum().sort_values(ascending=False)"
   ]
  },
  {
   "cell_type": "code",
   "execution_count": 116,
   "id": "72a8040c",
   "metadata": {},
   "outputs": [
    {
     "name": "stderr",
     "output_type": "stream",
     "text": [
      "/Users/emilybicks/opt/anaconda3/envs/dap_aria_mapping/lib/python3.8/site-packages/altair/utils/core.py:317: FutureWarning: iteritems is deprecated and will be removed in a future version. Use .items instead.\n",
      "  for col_name, dtype in df.dtypes.iteritems():\n"
     ]
    }
   ],
   "source": [
    "figure = alt.Chart(level1_topics).mark_bar(\n",
    "    opacity=1,\n",
    "    ).encode(\n",
    "    column = alt.Column('topic:N', spacing = 3, header = alt.Header(labelOrient = \"top\"), sort = list(sort_order.keys())),\n",
    "    x =alt.X('pat/pub:N', axis=None),\n",
    "    y =alt.Y('percent:Q'),\n",
    "    color= alt.Color('pat/pub:N')\n",
    ").configure_view(stroke='transparent')\n",
    "#figure.show()\n",
    "saving.save(figure, name='level1_misalignment', path='outputs/figures')"
   ]
  },
  {
   "cell_type": "markdown",
   "id": "9d771db0",
   "metadata": {},
   "source": [
    "## Patents "
   ]
  },
  {
   "cell_type": "code",
   "execution_count": 7,
   "id": "a865d50c",
   "metadata": {},
   "outputs": [
    {
     "data": {
      "text/plain": [
       "<BarContainer object of 19 artists>"
      ]
     },
     "execution_count": 7,
     "metadata": {},
     "output_type": "execute_result"
    },
    {
     "data": {
      "image/png": "[encoded data removed]",
      "text/plain": [
       "<Figure size 640x480 with 1 Axes>"
      ]
     },
     "metadata": {},
     "output_type": "display_data"
    }
   ],
   "source": [
    "plt.bar([int(key) for key in patent_proportion_dist.keys()], patent_proportion_dist.values(),tick_label = [int(key) for key in patent_proportion_dist.keys()] )"
   ]
  },
  {
   "cell_type": "markdown",
   "id": "c71756eb",
   "metadata": {},
   "source": [
    "## Highlighted Findings "
   ]
  },
  {
   "cell_type": "markdown",
   "id": "a371d973",
   "metadata": {},
   "source": [
    "Topic 0 appears to be more represented in Patents vs. Publications - Over 40% of documents in Patents are about topic 0, whereas only about 20% of Publications are on Topic 0. A random sample of 50 entities from Topic 0 shows that it is likely about Chemical Engineering. "
   ]
  },
  {
   "cell_type": "code",
   "execution_count": 57,
   "id": "a2a0be74",
   "metadata": {},
   "outputs": [
    {
     "name": "stdout",
     "output_type": "stream",
     "text": [
      "['Spycatcher', 'Deep-level transient spectroscopy', 'Kesterite', 'European emission standards', 'Phenethylamine', 'Microstrip', 'Otto cycle', 'Bis-GMA', 'Industrial Emissions Directive', 'Dislocation']\n"
     ]
    }
   ],
   "source": [
    "print(random.sample(list(tax[tax['Level_1']=='0'].index),10))"
   ]
  },
  {
   "cell_type": "code",
   "execution_count": 58,
   "id": "5d604489",
   "metadata": {},
   "outputs": [
    {
     "name": "stdout",
     "output_type": "stream",
     "text": [
      "['Betaretrovirus', 'Systemic lupus erythematosus', 'Gingival sulcus', 'Angioscopy', 'Human variability', 'Protein 4.2', 'Mental health trust', 'Lymphokine', 'Sesamoid bone', 'Triazolam']\n"
     ]
    }
   ],
   "source": [
    "print(random.sample(list(tax[tax['Level_1']=='12'].index),10))"
   ]
  },
  {
   "cell_type": "markdown",
   "id": "ab051548",
   "metadata": {},
   "source": [
    "Topic 15 appears to be more represented in Publications vs. Patents - About 20% of documents in Publications are about topic 15, whereas only about 5% of Patents are on Topic 15. A random sample of 50 entities from Topic 15 shows that it is likely related to Sociology."
   ]
  },
  {
   "cell_type": "code",
   "execution_count": 63,
   "id": "b5151a5f",
   "metadata": {},
   "outputs": [
    {
     "name": "stdout",
     "output_type": "stream",
     "text": [
      "['Financial Services Authority', 'Autonomous communities of Spain', 'Cello', 'Quasi-market', 'Feminist Media Studies', 'Peter Galton', 'Terroir', 'Faith school (United Kingdom)', 'Classical Athens', 'Syllable']\n"
     ]
    }
   ],
   "source": [
    "print(random.sample(list(tax[tax['Level_1']=='15'].index),10))"
   ]
  },
  {
   "cell_type": "markdown",
   "id": "3f89e434",
   "metadata": {},
   "source": [
    "# Focus on Composition of Topic 21 - Computer Science / Mathematics"
   ]
  },
  {
   "cell_type": "code",
   "execution_count": 20,
   "id": "5f0dcc44",
   "metadata": {},
   "outputs": [
    {
     "name": "stdout",
     "output_type": "stream",
     "text": [
      "['Price discovery', 'Command and control', 'Filter bank', 'Classifying space', 'NL-complete', 'Grid computing', 'Congruence subgroup', 'Graceful exit', 'Temporal discretization', 'Unit vector', 'Functional data analysis', 'Black hole', 'Combinatorial design', 'Deviance information criterion', 'Data compression', 'Non-Euclidean geometry', 'Polygon mesh', 'Hankel transform', 'Community informatics', 'Creative accounting', 'Stochastic dominance', 'Principal curvature', 'Algebraic structure', 'Data aggregation', 'Bring your own device', 'Baker Botts', 'Hugh Everett III', 'Spectral geometry', 'Associative algebra', 'Deep belief network', 'Hilbert scheme', 'Microsoft Office', 'Belief propagation', 'Cognitive computing', 'Hecke algebra of a locally compact group', 'Portlet', 'Seesaw', 'Hans Zassenhaus', 'Treebank', 'Femtocell', 'RISC-V', 'Payment Card Industry Data Security Standard', 'Codimension', 'Birds in music', 'Free boundary condition', 'FK Rad', 'Convex polytope', 'Coiflet', 'Computational problem', 'Activity recognition']\n"
     ]
    }
   ],
   "source": [
    "print(random.sample(list(tax[tax['Level_1']=='21'].index),50))"
   ]
  },
  {
   "cell_type": "code",
   "execution_count": 21,
   "id": "e2beb750",
   "metadata": {},
   "outputs": [
    {
     "name": "stdout",
     "output_type": "stream",
     "text": [
      "                 Level_1 Level_2   Level_3      Level_4      Level_5\n",
      "Entity                                                              \n",
      "Computer science      21   21_25  21_25_27  21_25_27_14  21_25_27_14\n",
      "                        Level_1 Level_2  Level_3    Level_4    Level_5\n",
      "Entity                                                                \n",
      "Artificial intelligence      21   21_52  21_52_2  21_52_2_2  21_52_2_2\n",
      "                 Level_1 Level_2 Level_3   Level_4   Level_5\n",
      "Entity                                                      \n",
      "Machine learning      21    21_7  21_7_5  21_7_5_8  21_7_5_8\n"
     ]
    }
   ],
   "source": [
    "print(tax.filter(items = ['Computer science'], axis=0))\n",
    "print(tax.filter(items = ['Artificial intelligence'], axis=0))\n",
    "print(tax.filter(items = ['Machine learning'], axis=0))"
   ]
  },
  {
   "cell_type": "markdown",
   "id": "29792c17",
   "metadata": {},
   "source": [
    "## Level 2"
   ]
  },
  {
   "cell_type": "code",
   "execution_count": 13,
   "id": "d6ba0ea8",
   "metadata": {},
   "outputs": [],
   "source": [
    "oa2 = openalex_with_coocc_topics(level = 2)"
   ]
  },
  {
   "cell_type": "code",
   "execution_count": 10,
   "id": "2ba4dce2",
   "metadata": {},
   "outputs": [],
   "source": [
    "patents2 = patents_with_coocc_topics(level = 2)"
   ]
  },
  {
   "cell_type": "code",
   "execution_count": 14,
   "id": "782b2521",
   "metadata": {},
   "outputs": [],
   "source": [
    "oa2absdist, oa2dist = topic_distributions(oa2)\n",
    "oa2dist21 = {k: v for k, v in oa2dist.items() if k[:3] == '21_'}"
   ]
  },
  {
   "cell_type": "code",
   "execution_count": 15,
   "id": "a13bbd72",
   "metadata": {},
   "outputs": [],
   "source": [
    "pa, patents2dist = topic_distributions(patents2)\n",
    "patents2dist21 = {k: v for k, v in patents2dist.items() if k[:3] == '21_'}"
   ]
  },
  {
   "cell_type": "code",
   "execution_count": 16,
   "id": "6344e914",
   "metadata": {},
   "outputs": [],
   "source": [
    "level2_21topics = pd.DataFrame.from_dict(oa2dist21, orient='index').join(pd.DataFrame.from_dict(patents2dist21, orient='index'),lsuffix='_publications', rsuffix='_patents').unstack().reset_index().rename(columns = {\"level_0\":\"pat/pub\",\"level_1\":\"topic\",0:\"percent\"}) \n",
    "level2_21topics[['level_1_topic', 'level_2_topic']] = level2_21topics[\"topic\"].apply(lambda x: pd.Series(str(x).split(\"_\")))\n",
    "sort_order2 = list(level2_21topics.groupby(level2_21topics['level_2_topic'])['percent'].sum().sort_values(ascending=False).keys())"
   ]
  },
  {
   "cell_type": "code",
   "execution_count": 17,
   "id": "3a08b062",
   "metadata": {},
   "outputs": [
    {
     "name": "stderr",
     "output_type": "stream",
     "text": [
      "/Users/emilybicks/opt/anaconda3/envs/dap_aria_mapping/lib/python3.8/site-packages/altair/utils/core.py:317: FutureWarning: iteritems is deprecated and will be removed in a future version. Use .items instead.\n",
      "  for col_name, dtype in df.dtypes.iteritems():\n"
     ]
    },
    {
     "name": "stdout",
     "output_type": "stream",
     "text": [
      "Displaying chart at http://localhost:56335/\n"
     ]
    },
    {
     "name": "stderr",
     "output_type": "stream",
     "text": [
      "[WDM] - Downloading: 100%|██████████████████| 8.72M/8.72M [00:10<00:00, 833kB/s]\n",
      "/Users/emilybicks/opt/anaconda3/envs/dap_aria_mapping/lib/python3.8/site-packages/altair/utils/core.py:317: FutureWarning: iteritems is deprecated and will be removed in a future version. Use .items instead.\n",
      "  for col_name, dtype in df.dtypes.iteritems():\n"
     ]
    }
   ],
   "source": [
    "figure2 = alt.Chart(level2_21topics).mark_bar(\n",
    "    opacity=1,\n",
    "    ).encode(\n",
    "    column = alt.Column('level_2_topic:N', spacing = 3, header = alt.Header(labelOrient = \"top\", labelFontSize=14), sort=sort_order2),\n",
    "    x =alt.X('pat/pub:N', axis = None),\n",
    "    y =alt.Y('percent:Q', axis = alt.Axis(labels = True)),\n",
    "    color= alt.Color('pat/pub:N')\n",
    ").configure_view(stroke='transparent').properties(\n",
    "    width=15)\n",
    "figure2.show()\n",
    "saving.save(figure2, name='level2_misalignment', path='outputs/figures')"
   ]
  },
  {
   "cell_type": "markdown",
   "id": "e1321ca1",
   "metadata": {},
   "source": [
    "## Interesting Findings "
   ]
  },
  {
   "cell_type": "markdown",
   "id": "83b6166f",
   "metadata": {},
   "source": [
    "At the higest level, both Patents and Publications appear to be about Topic 21 approx 20% of the time. Topic 21 appears to contain content related to Computer Science/Mathematics. What is interesting is the breakdown of that topic within Patents and Publictations."
   ]
  },
  {
   "cell_type": "markdown",
   "id": "04c71988",
   "metadata": {},
   "source": [
    "Sub-topic 24 is the 3rd most represented topic within 21 in patents, with about 2.5% of all patents being about that sub-topic. However <1% of all publications are on that subtopic. A random sample of the entities within that subtopic shows that it appears to be about cybersecurity.\n",
    "\n",
    "Sub-topic 39 shows a similar pattern. It is in over 3% of all patents, but about 1% of publications. Sub-topic 39 appears to be about scaled computing architectures."
   ]
  },
  {
   "cell_type": "code",
   "execution_count": 197,
   "id": "a604e34d",
   "metadata": {},
   "outputs": [
    {
     "name": "stdout",
     "output_type": "stream",
     "text": [
      "['Binary file', 'Password policy', 'Transport Layer Security', 'EMV', 'International Federation for Information Processing']\n"
     ]
    }
   ],
   "source": [
    "print(random.sample(list(tax[tax['Level_2']=='21_24'].index),5))"
   ]
  },
  {
   "cell_type": "code",
   "execution_count": 194,
   "id": "659133ce",
   "metadata": {},
   "outputs": [
    {
     "name": "stdout",
     "output_type": "stream",
     "text": [
      "['Symbolic simulation', 'Heterogeneous computing', 'Computer memory', 'Functional verification', 'Basic block']\n"
     ]
    }
   ],
   "source": [
    "print(random.sample(list(tax[tax['Level_2']=='21_39'].index),5))"
   ]
  },
  {
   "cell_type": "markdown",
   "id": "a99e4fee",
   "metadata": {},
   "source": [
    "On the other hand, sub-topic 17 is much more represented in publications (nearly 3% of all publications), but much less in patents (<1% of all patents). Sub-topic 17 appears to be about Physics.\n",
    "\n",
    "Similarly, sub-topic 3 is much more represented in publications (>3% of all pubs) but only about 1% of patents. Sub-topic 3 appears to be about finance/economics."
   ]
  },
  {
   "cell_type": "code",
   "execution_count": 200,
   "id": "266ca173",
   "metadata": {},
   "outputs": [
    {
     "name": "stdout",
     "output_type": "stream",
     "text": [
      "['M-theory', 'Comoving and proper distances', 'T2K experiment', 'Big Crunch', 'SO(10) (physics)']\n"
     ]
    }
   ],
   "source": [
    "print(random.sample(list(tax[tax['Level_2']=='21_17'].index),5))"
   ]
  },
  {
   "cell_type": "code",
   "execution_count": 196,
   "id": "c042764d",
   "metadata": {},
   "outputs": [
    {
     "name": "stdout",
     "output_type": "stream",
     "text": [
      "['Public bad', 'Consumption tax', 'Nord Pool AS', 'Economic bubble', 'Relative valuation']\n"
     ]
    }
   ],
   "source": [
    "print(random.sample(list(tax[tax['Level_2']=='21_3'].index),5))"
   ]
  },
  {
   "cell_type": "markdown",
   "id": "8b4f60f5",
   "metadata": {},
   "source": [
    "## Level 3 "
   ]
  },
  {
   "cell_type": "markdown",
   "id": "a2db1630",
   "metadata": {},
   "source": [
    "Subtopic 44 is the most prevalent subtopic within 21 for both Publications and Patents, which generally appears to be about networking, but contains other algorithmic terms as well."
   ]
  },
  {
   "cell_type": "code",
   "execution_count": 67,
   "id": "60d22c43",
   "metadata": {},
   "outputs": [
    {
     "name": "stdout",
     "output_type": "stream",
     "text": [
      "['Cross-layer optimization', 'Molecular communication', 'Ethernet', 'Signal processing', 'OPNET', 'Service Access Point', 'Connected car', 'Optical communication', 'Repetition code', 'Software-defined radio', 'Adaptive coding', 'Base station', 'Spatial multiplexing', 'End-to-end delay', 'Telnet', 'Mesh networking', 'Viterbi algorithm', 'Convex optimization', 'Small cell', 'Network interface device', 'Location identifier', 'IEEE 802.16', 'Routing table', 'Network planning and design', 'Finite impulse response', 'Time to live', 'Fully qualified domain name', 'Value-added service', 'Bandwidth management', 'GERAN', 'Spectral density', 'Speech synthesis', 'Probabilistic neural network', 'Radio propagation', 'Operations support system', 'IPv4', 'Defragmentation', 'Dynamic Adaptive Streaming over HTTP', 'IEEE 802.11', 'Edge computing', 'Picocell', 'Mobile edge computing', 'Compressed sensing', 'Diversity scheme', 'Error detection and correction', 'Superframe', 'Adaptive switching', 'Synchronous optical networking', 'Link adaptation', 'Pairwise error probability']\n"
     ]
    }
   ],
   "source": [
    "print(random.sample(list(tax[tax['Level_2']=='21_44'].index),50))"
   ]
  },
  {
   "cell_type": "code",
   "execution_count": 39,
   "id": "c9f98beb",
   "metadata": {},
   "outputs": [],
   "source": [
    "oa3 = openalex_with_coocc_topics(level = 3)\n",
    "patents3 = patents_with_coocc_topics(level = 3)"
   ]
  },
  {
   "cell_type": "markdown",
   "id": "c48d3456",
   "metadata": {},
   "source": [
    "### OpenAlex "
   ]
  },
  {
   "cell_type": "code",
   "execution_count": 43,
   "id": "c27110e7",
   "metadata": {},
   "outputs": [],
   "source": [
    "blah, oa3dist = topic_distributions(oa3)\n",
    "oa3dist21_44 = {k: v for k, v in oa3dist.items() if k[:5] == '21_44'}"
   ]
  },
  {
   "cell_type": "code",
   "execution_count": 47,
   "id": "c855819e",
   "metadata": {},
   "outputs": [
    {
     "data": {
      "text/plain": [
       "<BarContainer object of 45 artists>"
      ]
     },
     "execution_count": 47,
     "metadata": {},
     "output_type": "execute_result"
    },
    {
     "data": {
      "image/png": "[encoded data removed]",
      "text/plain": [
       "<Figure size 1500x500 with 1 Axes>"
      ]
     },
     "metadata": {},
     "output_type": "display_data"
    }
   ],
   "source": [
    "plt.rcParams[\"figure.figsize\"] = (15,5)\n",
    "plt.bar([int(key.split(\"_\")[2]) for key in oa3dist21_44.keys()], oa3dist21_44.values(), tick_label = [int(key.split(\"_\")[2]) for key in oa3dist21_44.keys()])"
   ]
  },
  {
   "cell_type": "markdown",
   "id": "77b6d6cd",
   "metadata": {},
   "source": [
    "### Patents "
   ]
  },
  {
   "cell_type": "code",
   "execution_count": 48,
   "id": "57910e0c",
   "metadata": {},
   "outputs": [],
   "source": [
    "blah, patents3dist = topic_distributions(patents3)\n",
    "patents3dist21_44 = {k: v for k, v in patents3dist.items() if k[:5] == '21_44'}"
   ]
  },
  {
   "cell_type": "code",
   "execution_count": 49,
   "id": "9c96f0d0",
   "metadata": {},
   "outputs": [
    {
     "data": {
      "text/plain": [
       "<BarContainer object of 45 artists>"
      ]
     },
     "execution_count": 49,
     "metadata": {},
     "output_type": "execute_result"
    },
    {
     "data": {
      "image/png": "[encoded data removed]",
      "text/plain": [
       "<Figure size 1500x500 with 1 Axes>"
      ]
     },
     "metadata": {},
     "output_type": "display_data"
    }
   ],
   "source": [
    "plt.bar([int(key.split(\"_\")[2]) for key in patents3dist21_44.keys()], patents3dist21_44.values(), tick_label = [int(key.split(\"_\")[2]) for key in patents3dist21_44.keys()])"
   ]
  },
  {
   "cell_type": "code",
   "execution_count": 406,
   "id": "43fedad0",
   "metadata": {},
   "outputs": [
    {
     "name": "stdout",
     "output_type": "stream",
     "text": [
      "['Particle system', 'Extreme value theory', 'Actuarial science', 'Shared transport', 'Optimal stopping', 'Stay Positive (album)', 'Option (finance)', 'Entrance Point', 'Moving-average model', 'Queueing theory', 'Carsharing', 'Hypergeometric function', 'Markov chain', 'Esscher transform', 'Applied probability', 'Interacting particle system', 'Likelihood function', 'Lévy process']\n"
     ]
    }
   ],
   "source": [
    "print(list(tax[tax['Level_3']=='21_3_1'].index))"
   ]
  },
  {
   "cell_type": "code",
   "execution_count": 407,
   "id": "ef6a4532",
   "metadata": {},
   "outputs": [
    {
     "name": "stdout",
     "output_type": "stream",
     "text": [
      "['Securities lending', 'Initial public offering', 'Global saving glut', 'China Securities Regulatory Commission', 'Disintermediation', 'Macro risk', 'Economic bubble', 'Alibaba Group', 'Baidu', 'Specialty registrar', 'Shanghai Stock Exchange', 'Tencent', 'Pierre-Simon Laplace', 'Volatile Times', 'Irish National Liberation Army', 'Shenzhen Stock Exchange', 'Procyclical and countercyclical', '49 Percent', 'Market liquidity', 'Hoarding', 'Hong Kong Stock Exchange', 'Taobao', 'Positive behavior support', 'Margin (finance)', 'Size premium', 'Fire sale', 'Capital adequacy ratio']\n"
     ]
    }
   ],
   "source": [
    "print(list(tax[tax['Level_3']=='21_3_2'].index))"
   ]
  },
  {
   "cell_type": "code",
   "execution_count": 409,
   "id": "96a38611",
   "metadata": {},
   "outputs": [
    {
     "name": "stdout",
     "output_type": "stream",
     "text": [
      "['Pomeron', 'DGLAP', 'Sherpa people', 'Fragmentation function', 'QCD matter', 'Quantum chromodynamics', 'Regge theory', 'Factorial', 'CLAS detector', 'W and Z bosons', 'Quantum statistical mechanics', 'Renormalization', 'Deep inelastic scattering', 'Event generator', 'Electromagnetism', 'Oscillon', 'Black Hat Briefings', 'Drell–Yan process', 'Vacuum polarization', 'STAR detector', 'Hadronization', 'Scattering amplitude', 'James Bjorken', 'Center-of-momentum frame', 'Soft-collinear effective theory', 'Coupling constant', 'HERMES experiment', 'Optical theorem', 'Sigma', 'Perturbation theory', 'Gluon', 'Hyperon', 'Branch point', 'Sine-Gordon equation', 'PYTHIA', 'Elementary particle', 'Four-momentum', 'Relativistic Heavy Ion Collider', 'Vector boson', 'Weinberg angle', 'Thomas Jefferson National Accelerator Facility', 'Zimbabwean dollar', 'Parton (particle physics)']\n"
     ]
    }
   ],
   "source": [
    "print(list(tax[tax['Level_3']=='21_17_1'].index))"
   ]
  },
  {
   "cell_type": "code",
   "execution_count": 415,
   "id": "71293c87",
   "metadata": {},
   "outputs": [
    {
     "name": "stdout",
     "output_type": "stream",
     "text": [
      "['Analytic continuation', 'Big Bang', 'Static universe', 'Conformal map', 'Big Crunch', 'Big Rip', 'Holographic principle', 'Gravitational singularity']\n"
     ]
    }
   ],
   "source": [
    "print(list(tax[tax['Level_3']=='21_17_7'].index))"
   ]
  },
  {
   "cell_type": "code",
   "execution_count": null,
   "id": "644866a8",
   "metadata": {},
   "outputs": [],
   "source": []
  },
  {
   "cell_type": "code",
   "execution_count": null,
   "id": "1faffeec",
   "metadata": {},
   "outputs": [],
   "source": []
  },
  {
   "cell_type": "code",
   "execution_count": null,
   "id": "954bcaa0",
   "metadata": {},
   "outputs": [],
   "source": []
  },
  {
   "cell_type": "code",
   "execution_count": null,
   "id": "31c8fd35",
   "metadata": {},
   "outputs": [],
   "source": []
  },
  {
   "cell_type": "code",
   "execution_count": null,
   "id": "d728caf7",
   "metadata": {},
   "outputs": [],
   "source": []
  },
  {
   "cell_type": "code",
   "execution_count": null,
   "id": "93b467f9",
   "metadata": {},
   "outputs": [],
   "source": []
  },
  {
   "cell_type": "code",
   "execution_count": null,
   "id": "8def866c",
   "metadata": {},
   "outputs": [],
   "source": []
  },
  {
   "cell_type": "markdown",
   "id": "1457e744",
   "metadata": {},
   "source": [
    "### Interesting Findings "
   ]
  },
  {
   "cell_type": "markdown",
   "id": "f2e3e781",
   "metadata": {},
   "source": [
    "The distribution of sub-sub-topics within sub-topic 44 is much more skewed for publications. Publications within this sub-stopic, are predominantly about sub-sub topic 6, which is about algorithmic optimisation. "
   ]
  },
  {
   "cell_type": "code",
   "execution_count": 65,
   "id": "fcd29aa2",
   "metadata": {},
   "outputs": [
    {
     "name": "stdout",
     "output_type": "stream",
     "text": [
      "['Unmanned aerial vehicle', 'Multiple edges', 'Guangzhou Bus Rapid Transit', 'MSISDN', 'Fractional programming', 'Mobile edge computing', 'Supply chain optimization', 'Proximal gradient methods for learning', 'Hadamard matrix', 'Extremely high frequency', 'Convex optimization', 'Coordinate descent', 'Nonnegative matrix', 'Mathematical optimization', 'Demand load', 'Stochastic optimization', 'Ky Fan', 'Duality (optimization)', 'Edge computing', 'Segment routing', 'Value-added service', 'Lyapunov optimization', 'Microsoft Edge', 'Content delivery network', 'Algorithm']\n"
     ]
    }
   ],
   "source": [
    "print(list(tax[tax['Level_3']=='21_44_6'].index))"
   ]
  },
  {
   "cell_type": "markdown",
   "id": "a7b3859c",
   "metadata": {},
   "source": [
    "There are a significant number of patents in may other sub-sub topics within sub-topic 44, such as 3 and 39 which both appear to be about telecommunications. "
   ]
  },
  {
   "cell_type": "code",
   "execution_count": 71,
   "id": "d82143ce",
   "metadata": {},
   "outputs": [
    {
     "name": "stdout",
     "output_type": "stream",
     "text": [
      "['E-UTRA', 'Media gateway', 'Packet radio', 'Mobile radio', 'Radio access network', 'UMTS Terrestrial Radio Access Network', 'Information system', 'Network switching subsystem', 'Source Radio', 'Mobile phone', 'System Architecture Evolution', 'Legacy system', 'Circuit switching', 'Voice call continuity', 'New York Call', 'GSM', 'General Packet Radio Service', 'GPRS core network', 'GERAN', 'High Speed Packet Access', 'UMTS (telecommunication)', 'Access stratum', 'Radio Network Controller', 'Telecommunications network']\n",
      "['Multimedia Broadcast Multicast Service', 'Single-frequency network', 'Push-to-talk', '3GPP', 'LTE (telecommunication)', 'Communications system']\n"
     ]
    }
   ],
   "source": [
    "print(list(tax[tax['Level_3']=='21_44_3'].index))\n",
    "print(list(tax[tax['Level_3']=='21_44_39'].index))"
   ]
  },
  {
   "cell_type": "markdown",
   "id": "2584e2f1",
   "metadata": {},
   "source": [
    "## Institutions within topic 21"
   ]
  },
  {
   "cell_type": "code",
   "execution_count": 259,
   "id": "40d30219",
   "metadata": {},
   "outputs": [],
   "source": [
    "patent_full_data = get_patents()"
   ]
  },
  {
   "cell_type": "code",
   "execution_count": 263,
   "id": "eb223b3e",
   "metadata": {},
   "outputs": [],
   "source": [
    "patent_institutions, total_institutions = format_patent_institutions(patent_full_data)"
   ]
  },
  {
   "cell_type": "code",
   "execution_count": 266,
   "id": "40f7992e",
   "metadata": {},
   "outputs": [
    {
     "name": "stdout",
     "output_type": "stream",
     "text": [
      "['MERCK PATENT GMBH', 'LIETZAU LARS', 'FARRAND LOUISE DIANE', 'CZANTA MARKUS', 'HIRSCHMANN HARALD', 'WITTEK MICHAEL', 'SAITO IZUMI', 'SCHULER BRIGITTE']\n"
     ]
    }
   ],
   "source": [
    "print(patent_institutions['WO-2010094455-A1'])"
   ]
  },
  {
   "cell_type": "code",
   "execution_count": 268,
   "id": "f265f332",
   "metadata": {},
   "outputs": [
    {
     "data": {
      "text/plain": [
       "136629"
      ]
     },
     "execution_count": 268,
     "metadata": {},
     "output_type": "execute_result"
    }
   ],
   "source": [
    "total_institutions"
   ]
  },
  {
   "cell_type": "code",
   "execution_count": 276,
   "id": "ea78ea5e",
   "metadata": {},
   "outputs": [],
   "source": [
    "patentsdistinstitutions_absolute, patentsdistinstitutions_prop = institution_distributions(patents,patent_institutions, total_institutions)"
   ]
  },
  {
   "cell_type": "code",
   "execution_count": 273,
   "id": "16ac11ef",
   "metadata": {},
   "outputs": [
    {
     "name": "stdout",
     "output_type": "stream",
     "text": [
      "['12', '0', '21', '22', '20', '11', '15', '14', '18', '13']\n"
     ]
    }
   ],
   "source": [
    "print(list(blah.keys())[:10])"
   ]
  },
  {
   "cell_type": "code",
   "execution_count": 295,
   "id": "0f9eb6be",
   "metadata": {},
   "outputs": [
    {
     "name": "stdout",
     "output_type": "stream",
     "text": [
      "                           institution  doc_count\n",
      "0                                  IBM       2253\n",
      "1                     BRITISH TELECOMM       1024\n",
      "2               ADVANCED RISC MACH LTD        941\n",
      "3           SAMSUNG ELECTRONICS CO LTD        619\n",
      "4                      ROLLS ROYCE PLC        567\n",
      "5                            SONY CORP        497\n",
      "6                               NXP BV        478\n",
      "7                 IMAGINATION TECH LTD        474\n",
      "8                JAGUAR LAND ROVER LTD        440\n",
      "9                         QUALCOMM INC        437\n",
      "10                      ALCATEL LUCENT        435\n",
      "11                     BAE SYSTEMS PLC        400\n",
      "12                      MICROSOFT CORP        400\n",
      "13  MICROSOFT TECHNOLOGY LICENSING LLC        392\n",
      "14      HEWLETT PACKARD DEVELOPMENT CO        366\n",
      "15                          INTEL CORP        343\n",
      "16                         FUJITSU LTD        284\n",
      "17                     SONY EUROPE LTD        281\n",
      "18                      CISCO TECH INC        274\n",
      "19                          GOOGLE INC        267\n"
     ]
    }
   ],
   "source": [
    "sorted_21 =  dict(sorted(patentsdistinstitutions_absolute['21'].items(), key=operator.itemgetter(1),reverse=True))\n",
    "top_institutions = list(sorted_21.keys())[:20]\n",
    "top_institutions_df = pd.DataFrame.from_dict({inst: sorted_21[inst] for inst in top_institutions},orient = 'index').reset_index().rename(columns = {'index':'institution', 0:'doc_count'})"
   ]
  },
  {
   "cell_type": "code",
   "execution_count": 340,
   "id": "a1372686",
   "metadata": {},
   "outputs": [
    {
     "name": "stderr",
     "output_type": "stream",
     "text": [
      "/Users/emilybicks/opt/anaconda3/envs/dap_aria_mapping/lib/python3.8/site-packages/altair/utils/core.py:317: FutureWarning: iteritems is deprecated and will be removed in a future version. Use .items instead.\n",
      "  for col_name, dtype in df.dtypes.iteritems():\n"
     ]
    }
   ],
   "source": [
    "figure3 = alt.Chart(top_institutions_df).mark_bar(\n",
    "    opacity=1,\n",
    "    ).encode(\n",
    "    x =alt.X('institution:N', axis = alt.Axis(labelFontSize = 9, labelAngle = 45), sort = top_institutions),\n",
    "    y =alt.Y('doc_count:Q'),\n",
    "    color=alt.value('#0000FF')\n",
    ").configure_view(stroke='transparent').properties(\n",
    "    height=300)\n",
    "saving.save(figure3, name='topic21_patentinstitutions', path='outputs/figures')"
   ]
  },
  {
   "cell_type": "code",
   "execution_count": 324,
   "id": "0187202a",
   "metadata": {},
   "outputs": [],
   "source": [
    "oa_institution_list = list(oa_institutions['affiliation_string'])"
   ]
  },
  {
   "cell_type": "code",
   "execution_count": 351,
   "id": "2c02447e",
   "metadata": {},
   "outputs": [],
   "source": [
    "import json\n",
    "with open('institutions.json', 'r+') as f:\n",
    "    oa_institutions = json.load(f)"
   ]
  },
  {
   "cell_type": "code",
   "execution_count": 357,
   "id": "7670ea46",
   "metadata": {},
   "outputs": [],
   "source": [
    "oa_authorships = get_openalex_authorships()"
   ]
  },
  {
   "cell_type": "code",
   "execution_count": 360,
   "id": "ea64213e",
   "metadata": {},
   "outputs": [],
   "source": [
    "oa_authorships_deduped = oa_authorships[['id','inst_id']].drop_duplicates(subset = ['id','inst_id'])"
   ]
  },
  {
   "cell_type": "code",
   "execution_count": 361,
   "id": "bbb6123f",
   "metadata": {},
   "outputs": [
    {
     "name": "stdout",
     "output_type": "stream",
     "text": [
      "                                  id                           inst_id\n",
      "0   https://openalex.org/W2014935324    https://openalex.org/I28407311\n",
      "2   https://openalex.org/W2137015675   https://openalex.org/I100930933\n",
      "3   https://openalex.org/W2137015675  https://openalex.org/I1303153112\n",
      "15  https://openalex.org/W2161633633   https://openalex.org/I107606265\n",
      "16  https://openalex.org/W2161633633  https://openalex.org/I4210087915\n"
     ]
    }
   ],
   "source": [
    "print(oa_authorships_deduped.head())"
   ]
  },
  {
   "cell_type": "code",
   "execution_count": 355,
   "id": "347edd9f",
   "metadata": {
    "scrolled": true
   },
   "outputs": [
    {
     "name": "stdout",
     "output_type": "stream",
     "text": [
      "                                 id                        ror  \\\n",
      "0  https://openalex.org/I4210133834  https://ror.org/03d7x2a93   \n",
      "1  https://openalex.org/I4210086511  https://ror.org/003h15w42   \n",
      "2  https://openalex.org/I4210134005  https://ror.org/034x48g49   \n",
      "3  https://openalex.org/I4210086677  https://ror.org/00y27w112   \n",
      "4  https://openalex.org/I4210134204  https://ror.org/033wj0h62   \n",
      "\n",
      "                               display_name country_code        type  \\\n",
      "0                             Tritech Group           GB     company   \n",
      "1               Galaxy Advanced Engineering           US     company   \n",
      "2                                   Perrigo           IL     company   \n",
      "3  Children’s Leukemia Research Association           US   nonprofit   \n",
      "4                                  DS Smith           GB  healthcare   \n",
      "\n",
      "                        homepage_url  \\\n",
      "0    https://www.tritechgroup.co.uk/   \n",
      "1             http://www.gaeinc.com/   \n",
      "2   http://dev.perrigo-pharma.co.il/   \n",
      "3  http://www.childrensleukemia.org/   \n",
      "4           https://www.dssmith.com/   \n",
      "\n",
      "                                           image_url  \\\n",
      "0                                               None   \n",
      "1                                               None   \n",
      "2  https://upload.wikimedia.org/wikipedia/commons...   \n",
      "3                                               None   \n",
      "4                                               None   \n",
      "\n",
      "                                 image_thumbnail_url display_name_acronyms  \\\n",
      "0                                               None                    []   \n",
      "1                                               None                 [GAE]   \n",
      "2  https://upload.wikimedia.org/wikipedia/commons...                    []   \n",
      "3                                               None                [CLRA]   \n",
      "4                                               None                    []   \n",
      "\n",
      "                  display_name_alternatives  ...  \\\n",
      "0                                        []  ...   \n",
      "1                                        []  ...   \n",
      "2                                        []  ...   \n",
      "3  [National Leukemia Research Association]  ...   \n",
      "4                                        []  ...   \n",
      "\n",
      "                                                 ids  \\\n",
      "0  {'openalex': 'https://openalex.org/I4210133834...   \n",
      "1  {'openalex': 'https://openalex.org/I4210086511...   \n",
      "2  {'openalex': 'https://openalex.org/I4210134005...   \n",
      "3  {'openalex': 'https://openalex.org/I4210086677...   \n",
      "4  {'openalex': 'https://openalex.org/I4210134204...   \n",
      "\n",
      "                                                 geo  \\\n",
      "0  {'city': 'Wrexham', 'geonames_city_id': '26334...   \n",
      "1  {'city': 'Burlingame', 'geonames_city_id': '53...   \n",
      "2  {'city': 'Bnei Brak', 'geonames_city_id': '295...   \n",
      "3  {'city': 'Garden City', 'geonames_city_id': '5...   \n",
      "4  {'city': 'Belper', 'geonames_city_id': '265594...   \n",
      "\n",
      "                                       international  \\\n",
      "0          {'display_name': {'en': 'Tritech Group'}}   \n",
      "1  {'display_name': {'en': 'Galaxy Advanced Engin...   \n",
      "2                {'display_name': {'en': 'Perrigo'}}   \n",
      "3  {'display_name': {'en': 'Children’s Leukemia R...   \n",
      "4               {'display_name': {'en': 'DS Smith'}}   \n",
      "\n",
      "                             associated_institutions  \\\n",
      "0                                                 []   \n",
      "1                                                 []   \n",
      "2  [{'id': 'https://openalex.org/I903889665', 'ro...   \n",
      "3                                                 []   \n",
      "4                                                 []   \n",
      "\n",
      "                                      counts_by_year  \\\n",
      "0  [{'year': 2021, 'works_count': 1, 'cited_by_co...   \n",
      "1  [{'year': 2017, 'works_count': 1, 'cited_by_co...   \n",
      "2                                                 []   \n",
      "3                                                 []   \n",
      "4                                                 []   \n",
      "\n",
      "                                          x_concepts  \\\n",
      "0  [{'id': 'https://openalex.org/C127313418', 'wi...   \n",
      "1  [{'id': 'https://openalex.org/C2987661296', 'w...   \n",
      "2                                                 []   \n",
      "3                                                 []   \n",
      "4                                                 []   \n",
      "\n",
      "                                       works_api_url updated_date  \\\n",
      "0  https://api.openalex.org/works?filter=institut...   2022-02-03   \n",
      "1  https://api.openalex.org/works?filter=institut...   2022-02-03   \n",
      "2  https://api.openalex.org/works?filter=institut...   2022-02-03   \n",
      "3  https://api.openalex.org/works?filter=institut...   2022-02-03   \n",
      "4  https://api.openalex.org/works?filter=institut...   2022-02-03   \n",
      "\n",
      "  created_date relationship  \n",
      "0   2022-02-02          NaN  \n",
      "1   2022-02-02          NaN  \n",
      "2   2022-02-02          NaN  \n",
      "3   2022-02-02          NaN  \n",
      "4   2022-02-02          NaN  \n",
      "\n",
      "[5 rows x 22 columns]\n"
     ]
    }
   ],
   "source": [
    "oa_institutions_df = pd.DataFrame.from_dict(oa_institutions)"
   ]
  },
  {
   "cell_type": "code",
   "execution_count": 392,
   "id": "711c0768",
   "metadata": {},
   "outputs": [],
   "source": [
    "oa_institutions_lookup = oa_institutions_df.set_index('id').to_dict()['display_name']"
   ]
  },
  {
   "cell_type": "code",
   "execution_count": 393,
   "id": "da6eecb6",
   "metadata": {},
   "outputs": [
    {
     "name": "stdout",
     "output_type": "stream",
     "text": [
      "['https://openalex.org/I4210133834', 'https://openalex.org/I4210086511', 'https://openalex.org/I4210134005', 'https://openalex.org/I4210086677', 'https://openalex.org/I4210134204']\n"
     ]
    }
   ],
   "source": [
    "print(list(oa_institutions_lookup.keys())[:5])"
   ]
  },
  {
   "cell_type": "code",
   "execution_count": 397,
   "id": "07c5c207",
   "metadata": {},
   "outputs": [],
   "source": [
    "oa_institutions_formatted, total_oa_institutions = format_oa_institutions(oa_authorships_deduped, oa_institutions_lookup)"
   ]
  },
  {
   "cell_type": "code",
   "execution_count": 398,
   "id": "ca63e91a",
   "metadata": {},
   "outputs": [],
   "source": [
    "oadistinstitutions_absolute, oadistinstitutions_prop = institution_distributions(oa ,oa_institutions_formatted, total_oa_institutions)"
   ]
  },
  {
   "cell_type": "code",
   "execution_count": 399,
   "id": "201a45a0",
   "metadata": {},
   "outputs": [],
   "source": [
    "sorted_21_oa =  dict(sorted(oadistinstitutions_absolute['21'].items(), key=operator.itemgetter(1),reverse=True))\n",
    "top_institutions_oa = list(sorted_21_oa.keys())[:20]\n",
    "top_institutions_df_oa = pd.DataFrame.from_dict({inst: sorted_21_oa[inst] for inst in top_institutions_oa},orient = 'index').reset_index().rename(columns = {'index':'institution', 0:'doc_count'})"
   ]
  },
  {
   "cell_type": "code",
   "execution_count": 404,
   "id": "3804e5a9",
   "metadata": {},
   "outputs": [],
   "source": [
    "figure4 = alt.Chart(top_institutions_df_oa).mark_bar(\n",
    "    opacity=1,\n",
    "    ).encode(\n",
    "    x =alt.X('institution:N', axis = alt.Axis(labelFontSize = 12, labelAngle = 45), sort = top_institutions),\n",
    "    y =alt.Y('doc_count:Q', axis = alt.Axis(orient = 'right')),\n",
    "    color=alt.value('#FDB633')\n",
    ").configure_view(stroke='transparent').properties(\n",
    "    height=300)\n",
    "#figure4.show()\n",
    "saving.save(figure4, name='topic21_oainstitutions', path='outputs/figures')"
   ]
  },
  {
   "cell_type": "code",
   "execution_count": 341,
   "id": "cda90eda",
   "metadata": {},
   "outputs": [
    {
     "name": "stdout",
     "output_type": "stream",
     "text": [
      "                                 id                           auth_id  \\\n",
      "0  https://openalex.org/W2014935324  https://openalex.org/A2077177608   \n",
      "1  https://openalex.org/W2014935324  https://openalex.org/A2017532309   \n",
      "2  https://openalex.org/W2137015675  https://openalex.org/A2687388036   \n",
      "3  https://openalex.org/W2137015675  https://openalex.org/A1932590790   \n",
      "4  https://openalex.org/W2137015675  https://openalex.org/A2232649233   \n",
      "\n",
      "     auth_display_name                             auth_orcid  \\\n",
      "0        Andre K. Geim  https://orcid.org/0000-0003-2861-8331   \n",
      "1  Kostya S. Novoselov  https://orcid.org/0000-0003-4972-5371   \n",
      "2       Mark A. Larkin                                   None   \n",
      "3  Gordon Blackshields  https://orcid.org/0000-0003-2114-9958   \n",
      "4       Nigel P. Brown                                   None   \n",
      "\n",
      "                                  affiliation_string  \\\n",
      "0  Manchester Centre for Mesoscience and Nanotech...   \n",
      "1  Manchester Centre for Mesoscience and Nanotech...   \n",
      "2  The Conway Institute of Biomolecular and Biome...   \n",
      "3                                               None   \n",
      "4                                               None   \n",
      "\n",
      "                            inst_id  \n",
      "0    https://openalex.org/I28407311  \n",
      "1    https://openalex.org/I28407311  \n",
      "2   https://openalex.org/I100930933  \n",
      "3  https://openalex.org/I1303153112  \n",
      "4  https://openalex.org/I1303153112  \n"
     ]
    }
   ],
   "source": [
    "print(oa_institutions.head())"
   ]
  }
 ],
 "metadata": {
  "kernelspec": {
   "display_name": "Python 3 (ipykernel)",
   "language": "python",
   "name": "python3"
  },
  "language_info": {
   "codemirror_mode": {
    "name": "ipython",
    "version": 3
   },
   "file_extension": ".py",
   "mimetype": "text/x-python",
   "name": "python",
   "nbconvert_exporter": "python",
   "pygments_lexer": "ipython3",
   "version": "3.8.0"
  }
 },
 "nbformat": 4,
 "nbformat_minor": 5
}
