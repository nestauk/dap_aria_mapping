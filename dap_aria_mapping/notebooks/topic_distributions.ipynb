{
 "cells": [
  {
   "cell_type": "code",
   "execution_count": 7,
   "id": "1a75bc2d",
   "metadata": {},
   "outputs": [],
   "source": [
    "from dap_aria_mapping.getters.docs_with_topics import openalex_with_coocc_topics, patents_with_coocc_topics\n",
    "from dap_aria_mapping.getters.taxonomies import get_cooccurrence_taxonomy\n",
    "from collections import defaultdict\n",
    "import pandas as pd\n",
    "import matplotlib.pyplot as plt\n",
    "plt.rcParams.update({'font.size': 8})\n"
   ]
  },
  {
   "cell_type": "code",
   "execution_count": 8,
   "id": "d453857b",
   "metadata": {},
   "outputs": [],
   "source": [
    "oa = openalex_with_coocc_topics(level = 1)"
   ]
  },
  {
   "cell_type": "code",
   "execution_count": 9,
   "id": "5b76142f",
   "metadata": {},
   "outputs": [],
   "source": [
    "patents = patents_with_coocc_topics(level = 1)"
   ]
  },
  {
   "cell_type": "code",
   "execution_count": 10,
   "id": "ba144779",
   "metadata": {},
   "outputs": [],
   "source": [
    "def topic_distributions(docs):\n",
    "    absolute_dist = defaultdict(int)\n",
    "    for doc, topics in docs.items():\n",
    "        for topic in set(topics):\n",
    "            absolute_dist[topic] += 1\n",
    "    proportional_dist = defaultdict(float)\n",
    "    for key, val in absolute_dist.items():\n",
    "        proportional_dist[key] = val/len(docs)\n",
    "        \n",
    "    return absolute_dist, proportional_dist"
   ]
  },
  {
   "cell_type": "code",
   "execution_count": 11,
   "id": "905da641",
   "metadata": {},
   "outputs": [],
   "source": [
    "def taxonomy_distribution(taxLevel):\n",
    "    dist = defaultdict(float)\n",
    "    for taxid, count in pd.DataFrame(taxLevel.value_counts()).iterrows():\n",
    "        dist[taxid] = count[0]/len(taxLevel)\n",
    "    return dist"
   ]
  },
  {
   "cell_type": "code",
   "execution_count": 12,
   "id": "86d30bae",
   "metadata": {},
   "outputs": [],
   "source": [
    "oa_abs_dist, oa_proportion_dist = topic_distributions(oa)"
   ]
  },
  {
   "cell_type": "code",
   "execution_count": 13,
   "id": "9e123c54",
   "metadata": {},
   "outputs": [],
   "source": [
    "patent_abs_dist, patent_proportion_dist = topic_distributions(patents)"
   ]
  },
  {
   "cell_type": "code",
   "execution_count": 14,
   "id": "fb3fcb0d",
   "metadata": {},
   "outputs": [],
   "source": [
    "tax = get_cooccurrence_taxonomy()"
   ]
  },
  {
   "cell_type": "markdown",
   "id": "a065af00",
   "metadata": {},
   "source": [
    "### Distribution of Taxonomy at Level 1"
   ]
  },
  {
   "cell_type": "markdown",
   "id": "c98a80a9",
   "metadata": {},
   "source": [
    "This plot shows the percent of entities in the entire corpus allocated to each topic. The distribution is clearly quite skewed, so this needs to be considered when evaluating the proportion of documents on certain topics."
   ]
  },
  {
   "cell_type": "code",
   "execution_count": 15,
   "id": "0f4785f8",
   "metadata": {},
   "outputs": [
    {
     "data": {
      "text/plain": [
       "<BarContainer object of 25 artists>"
      ]
     },
     "execution_count": 15,
     "metadata": {},
     "output_type": "execute_result"
    },
    {
     "data": {
      "image/png": "[encoded data removed]",
      "text/plain": [
       "<Figure size 640x480 with 1 Axes>"
      ]
     },
     "metadata": {},
     "output_type": "display_data"
    }
   ],
   "source": [
    "level1tax = tax['Level_1']\n",
    "tax_dist = taxonomy_distribution(level1tax)\n",
    "plt.bar([int(key) for key in tax_dist.keys()], tax_dist.values(),tick_label = [int(key) for key in tax_dist.keys()] )"
   ]
  },
  {
   "cell_type": "markdown",
   "id": "20645e7e",
   "metadata": {},
   "source": [
    "# Proportion of Topics "
   ]
  },
  {
   "cell_type": "markdown",
   "id": "f159f04b",
   "metadata": {},
   "source": [
    "## OpenAlex"
   ]
  },
  {
   "cell_type": "code",
   "execution_count": 16,
   "id": "ca341d3f",
   "metadata": {},
   "outputs": [
    {
     "data": {
      "text/plain": [
       "<BarContainer object of 25 artists>"
      ]
     },
     "execution_count": 16,
     "metadata": {},
     "output_type": "execute_result"
    },
    {
     "data": {
      "image/png": "[encoded data removed]",
      "text/plain": [
       "<Figure size 640x480 with 1 Axes>"
      ]
     },
     "metadata": {},
     "output_type": "display_data"
    }
   ],
   "source": [
    "plt.bar([int(key) for key in oa_proportion_dist.keys()], oa_proportion_dist.values(),tick_label = [int(key) for key in oa_proportion_dist.keys()] )"
   ]
  },
  {
   "cell_type": "markdown",
   "id": "9d771db0",
   "metadata": {},
   "source": [
    "## Patents "
   ]
  },
  {
   "cell_type": "code",
   "execution_count": 17,
   "id": "a865d50c",
   "metadata": {},
   "outputs": [
    {
     "data": {
      "text/plain": [
       "<BarContainer object of 19 artists>"
      ]
     },
     "execution_count": 17,
     "metadata": {},
     "output_type": "execute_result"
    },
    {
     "data": {
      "image/png": "[encoded data removed]",
      "text/plain": [
       "<Figure size 640x480 with 1 Axes>"
      ]
     },
     "metadata": {},
     "output_type": "display_data"
    }
   ],
   "source": [
    "plt.bar([int(key) for key in patent_proportion_dist.keys()], patent_proportion_dist.values(),tick_label = [int(key) for key in patent_proportion_dist.keys()] )"
   ]
  },
  {
   "cell_type": "markdown",
   "id": "c71756eb",
   "metadata": {},
   "source": [
    "## Highlighted Findings "
   ]
  },
  {
   "cell_type": "markdown",
   "id": "a371d973",
   "metadata": {},
   "source": [
    "Topic 0 appears to be more represented in Patents vs. Publications - Over 40% of documents in Patents are about topic 0, whereas only about 20% of Publications are on Topic 0. A random sample of 50 entities from Topic 0 shows that it is likely about Chemical Engineering. "
   ]
  },
  {
   "cell_type": "code",
   "execution_count": 18,
   "id": "a2a0be74",
   "metadata": {},
   "outputs": [
    {
     "name": "stdout",
     "output_type": "stream",
     "text": [
      "['Provincial Highway 3 (Taiwan)', 'Butler–Volmer equation', 'Reversed field pinch', 'UK Clinical Aptitude Test', 'Uranium dioxide', 'Alginic acid', 'Poly(N-isopropylacrylamide)', 'Headstock', 'Physical Review Letters', 'The Purge', 'Electrostriction', 'Alphen aan den Rijn', 'Walter H. Schottky', 'Nacelle', 'Impeller', 'Susceptance', '3rd Marine Artillery Regiment', 'Fabric softener', 'Optical fiber', 'Photon counting', 'Propulsive efficiency', 'Boeing C-17 Globemaster III', 'Sorbitan monolaurate', 'Criticality accident', 'Aromatic sulfonation', 'Diphenylcyclopropenone', 'Butyronitrile', 'N-Butanol', 'Tryptamine', 'Pharr, Texas', 'Capacitive deionization', 'Helmholtz resonance', 'Fluorophore', 'Folding bicycle', 'Dual-phase steel', 'Berreman Township, Jo Daviess County, Illinois', 'Thermal printing', 'Hot particle', 'Supercharger', 'Coulomb barrier', 'Peter Debye', 'Tert-Butyllithium', 'Electromagnetic induction', 'Dithiolane', 'Photoelectrochemical cell', 'Polarization-division multiplexing', 'Urea-formaldehyde', 'Waveguide (optics)', 'Design structure matrix', 'Dimethyl trisulfide']\n"
     ]
    }
   ],
   "source": [
    "print(random.sample(list(tax[tax['Level_1']=='0'].index),50))"
   ]
  },
  {
   "cell_type": "markdown",
   "id": "ab051548",
   "metadata": {},
   "source": [
    "Topic 15 appears to be more represented in Publications vs. Patents - About 20% of documents in Publications are about topic 15, whereas only about 5% of Patents are on Topic 15. A random sample of 50 entities from Topic 15 shows that it is likely related to Sociology."
   ]
  },
  {
   "cell_type": "code",
   "execution_count": 19,
   "id": "b5151a5f",
   "metadata": {},
   "outputs": [
    {
     "name": "stdout",
     "output_type": "stream",
     "text": [
      "['Historical archaeology', 'Glostrup', 'Blackpool Victoria Hospital', 'Sprain', 'National electoral calendar 2012', 'Hiberno-English', 'Interprofessional education', 'Niki Sanders', 'Middlesbrough F.C.', 'Potosi', 'John Major', 'Reader-response criticism', 'Alasdair MacIntyre', 'Cochabamba', 'Cupid', 'Rum', 'Institutional ethnography', 'Forge', 'Category mistake', 'Edward Bouverie Pusey', 'Historical dynamics', 'Evidence-based policing', 'Dominican Order', 'Battle of Singapore', 'Communist party', 'Global News', 'Gustave Roussy', 'Urban Realm', '1997 Asian financial crisis', 'Marie Stopes International', 'Marlborough College', 'Gun control', 'Karolinska University Hospital', 'G20', 'John Dewey', 'Self-translation', 'Knoxville Campaign', 'Autopoiesis', 'Hyderabad', 'Network-centric warfare', 'Reading F.C.', 'Urban exploration', 'Net generation', 'LiveJournal', 'Octopussy', 'Palestine Liberation Organization', 'Apologize (OneRepublic song)', 'Organizational identification', 'Odyssey', 'Speedy Claxton']\n"
     ]
    }
   ],
   "source": [
    "print(random.sample(list(tax[tax['Level_1']=='15'].index),50))"
   ]
  },
  {
   "cell_type": "markdown",
   "id": "3f89e434",
   "metadata": {},
   "source": [
    "# Focus on Composition of Topic 21 - Computer Science / Mathematics"
   ]
  },
  {
   "cell_type": "code",
   "execution_count": 20,
   "id": "5f0dcc44",
   "metadata": {},
   "outputs": [
    {
     "name": "stdout",
     "output_type": "stream",
     "text": [
      "['Price discovery', 'Command and control', 'Filter bank', 'Classifying space', 'NL-complete', 'Grid computing', 'Congruence subgroup', 'Graceful exit', 'Temporal discretization', 'Unit vector', 'Functional data analysis', 'Black hole', 'Combinatorial design', 'Deviance information criterion', 'Data compression', 'Non-Euclidean geometry', 'Polygon mesh', 'Hankel transform', 'Community informatics', 'Creative accounting', 'Stochastic dominance', 'Principal curvature', 'Algebraic structure', 'Data aggregation', 'Bring your own device', 'Baker Botts', 'Hugh Everett III', 'Spectral geometry', 'Associative algebra', 'Deep belief network', 'Hilbert scheme', 'Microsoft Office', 'Belief propagation', 'Cognitive computing', 'Hecke algebra of a locally compact group', 'Portlet', 'Seesaw', 'Hans Zassenhaus', 'Treebank', 'Femtocell', 'RISC-V', 'Payment Card Industry Data Security Standard', 'Codimension', 'Birds in music', 'Free boundary condition', 'FK Rad', 'Convex polytope', 'Coiflet', 'Computational problem', 'Activity recognition']\n"
     ]
    }
   ],
   "source": [
    "print(random.sample(list(tax[tax['Level_1']=='21'].index),50))"
   ]
  },
  {
   "cell_type": "code",
   "execution_count": 21,
   "id": "e2beb750",
   "metadata": {},
   "outputs": [
    {
     "name": "stdout",
     "output_type": "stream",
     "text": [
      "                 Level_1 Level_2   Level_3      Level_4      Level_5\n",
      "Entity                                                              \n",
      "Computer science      21   21_25  21_25_27  21_25_27_14  21_25_27_14\n",
      "                        Level_1 Level_2  Level_3    Level_4    Level_5\n",
      "Entity                                                                \n",
      "Artificial intelligence      21   21_52  21_52_2  21_52_2_2  21_52_2_2\n",
      "                 Level_1 Level_2 Level_3   Level_4   Level_5\n",
      "Entity                                                      \n",
      "Machine learning      21    21_7  21_7_5  21_7_5_8  21_7_5_8\n"
     ]
    }
   ],
   "source": [
    "print(tax.filter(items = ['Computer science'], axis=0))\n",
    "print(tax.filter(items = ['Artificial intelligence'], axis=0))\n",
    "print(tax.filter(items = ['Machine learning'], axis=0))"
   ]
  },
  {
   "cell_type": "markdown",
   "id": "29792c17",
   "metadata": {},
   "source": [
    "## Level 2"
   ]
  },
  {
   "cell_type": "code",
   "execution_count": 22,
   "id": "2ba4dce2",
   "metadata": {},
   "outputs": [],
   "source": [
    "oa2 = openalex_with_coocc_topics(level = 2)\n",
    "patents2 = patents_with_coocc_topics(level = 2)"
   ]
  },
  {
   "cell_type": "markdown",
   "id": "7f028d3e",
   "metadata": {},
   "source": [
    "### OpenAlex "
   ]
  },
  {
   "cell_type": "code",
   "execution_count": 23,
   "id": "782b2521",
   "metadata": {},
   "outputs": [],
   "source": [
    "blah, oa2dist = topic_distributions(oa2)\n",
    "oa2dist21 = {k: v for k, v in oa2dist.items() if k[:3] == '21_'}"
   ]
  },
  {
   "cell_type": "code",
   "execution_count": 24,
   "id": "2ac1a281",
   "metadata": {},
   "outputs": [
    {
     "data": {
      "text/plain": [
       "<BarContainer object of 53 artists>"
      ]
     },
     "execution_count": 24,
     "metadata": {},
     "output_type": "execute_result"
    },
    {
     "data": {
      "image/png": "[encoded data removed]",
      "text/plain": [
       "<Figure size 1500x500 with 1 Axes>"
      ]
     },
     "metadata": {},
     "output_type": "display_data"
    }
   ],
   "source": [
    "plt.rcParams[\"figure.figsize\"] = (15,5)\n",
    "plt.bar([int(key.split(\"_\")[1]) for key in oa2dist21.keys()], oa2dist21.values(), tick_label = [int(key.split(\"_\")[1]) for key in oa2dist21.keys()])"
   ]
  },
  {
   "cell_type": "markdown",
   "id": "4f583f28",
   "metadata": {},
   "source": [
    "### Patents"
   ]
  },
  {
   "cell_type": "code",
   "execution_count": 25,
   "id": "a13bbd72",
   "metadata": {},
   "outputs": [],
   "source": [
    "blah, patents2dist = topic_distributions(patents2)\n",
    "patents2dist21 = {k: v for k, v in patents2dist.items() if k[:3] == '21_'}"
   ]
  },
  {
   "cell_type": "code",
   "execution_count": 26,
   "id": "4a8cd188",
   "metadata": {},
   "outputs": [
    {
     "data": {
      "text/plain": [
       "<BarContainer object of 52 artists>"
      ]
     },
     "execution_count": 26,
     "metadata": {},
     "output_type": "execute_result"
    },
    {
     "data": {
      "image/png": "[encoded data removed]",
      "text/plain": [
       "<Figure size 1500x500 with 1 Axes>"
      ]
     },
     "metadata": {},
     "output_type": "display_data"
    }
   ],
   "source": [
    "plt.bar([int(key.split(\"_\")[1]) for key in patents2dist21.keys()], patents2dist21.values(), tick_label = [int(key.split(\"_\")[1]) for key in patents2dist21.keys()])"
   ]
  },
  {
   "cell_type": "markdown",
   "id": "e1321ca1",
   "metadata": {},
   "source": [
    "## Interesting Findings "
   ]
  },
  {
   "cell_type": "markdown",
   "id": "83b6166f",
   "metadata": {},
   "source": [
    "At the higest level, both Patents and Publications appear to be about Topic 21 approx 20% of the time. Topic 21 appears to contain content related to Computer Science/Mathematics. What is interesting is the breakdown of that topic within Patents and Publictations."
   ]
  },
  {
   "cell_type": "markdown",
   "id": "04c71988",
   "metadata": {},
   "source": [
    "Sub-topic 24 is the 3rd most represented topic within 21 in patents, with about 2.5% of all patents being about that sub-topic. However <1% of all publications are on that subtopic. A random sample of the entities within that subtopic shows that it appears to be about cybersecurity.\n",
    "\n",
    "Sub-topic 39 shows a similar pattern. It is in over 3% of all patents, but about 1% of publications. Sub-topic 39 appears to be about scaled computing architectures."
   ]
  },
  {
   "cell_type": "code",
   "execution_count": 27,
   "id": "a604e34d",
   "metadata": {},
   "outputs": [
    {
     "name": "stdout",
     "output_type": "stream",
     "text": [
      "['Trade secret', 'Single sign-on', 'Sybil attack', 'Client–server model', 'Replay attack', 'Bootle', 'Advanced Encryption Standard', 'Competition Bureau (Canada)', 'WebRTC', 'Merger guidelines', 'Group signature', 'GSM-R', 'Cryptocurrency', 'BIND', 'Block chain', 'ID-based encryption', 'Identity management system', 'Self-similarity', 'Mobile computing', 'Affinity analysis', 'Algebra', 'Breakcore', 'Relay attack', 'Direct Anonymous Attestation', 'Key encapsulation', 'Black-box testing', 'Hybrid cryptosystem', 'Challenge–response authentication', 'Infrared Data Association', 'Ring learning with errors', 'Bargaining', 'National Institute of Standards and Technology', 'Personal firewall', 'Pseudorandom function family', 'SHA-2', 'Integer factorization', 'Bilinear map', 'Random permutation', 'Federal Trade Commission', 'Oblivious transfer', 'Quantum computing', 'Datagram Transport Layer Security', 'Signal Protocol', 'Homomorphic encryption', 'Eurocrypt', 'Bit array', 'Structural Health Monitoring', 'Domain Name System Security Extensions', 'Attack patterns', 'Privacy-enhancing technologies']\n"
     ]
    }
   ],
   "source": [
    "print(random.sample(list(tax[tax['Level_2']=='21_24'].index),50))"
   ]
  },
  {
   "cell_type": "code",
   "execution_count": 37,
   "id": "659133ce",
   "metadata": {},
   "outputs": [
    {
     "name": "stdout",
     "output_type": "stream",
     "text": [
      "['Equal-cost multi-path routing', 'Network processor', 'Defensive back', 'ARM big.LITTLE', 'File system', 'Petascale computing', 'Dependence analysis', 'Design choice', 'Memory safety', 'LINPACK', 'UltraHLE', 'Dynamic programming language', 'Computational aeroacoustics', 'QEMU', 'Intel MPX', 'Stencil code', 'Program counter', 'Test oracle', 'Scheduling (computing)', 'Thread safety', 'Locality of reference', 'Optimistic concurrency control', 'Instruction set', 'Skylake (microarchitecture)', 'Query optimization', 'Floating-point unit', 'Software transactional memory', 'Synchronous dynamic random-access memory', 'Spherical coordinate system', 'Library (computing)', 'Multi-agent system', 'Multiprocessing', 'Stratix', 'Loop dependence analysis', 'Altera Quartus', 'Biological computation', 'Eventual consistency', 'Sequence alignment', 'Compare-and-swap', 'Kernel-based Virtual Machine', 'VLSI Technology', 'Cholesky decomposition', 'Attack surface', 'Exponential integrate-and-fire', 'Bluespec', 'Control flow', 'Altera', 'Static random-access memory', 'Random-access memory', 'Supply-chain security']\n"
     ]
    }
   ],
   "source": [
    "print(random.sample(list(tax[tax['Level_2']=='21_39'].index),50))"
   ]
  },
  {
   "cell_type": "markdown",
   "id": "a99e4fee",
   "metadata": {},
   "source": [
    "On the other hand, sub-topic 17 is much more represented in publications (nearly 3% of all publications), but much less in patents (<1% of all patents). Sub-topic 17 appears to be about Physics.\n",
    "\n",
    "Similarly, sub-topic 3 is much more represented in publications (>3% of all pubs) but only about 1% of patents. Sub-topic 3 appears to be about finance/economics."
   ]
  },
  {
   "cell_type": "code",
   "execution_count": 29,
   "id": "266ca173",
   "metadata": {},
   "outputs": [
    {
     "name": "stdout",
     "output_type": "stream",
     "text": [
      "['De Sitter space', 'Axion', 'Sphaleron', 'Modular invariance', 'Heisenberg picture', 'Optical theorem', 'Topological quantum field theory', 'Holonomy', 'Gauge fixing', 'Lema', 'Jaynes–Cummings model', 'Worldsheet', 'Principal bundle', 'Octant (instrument)', 'Spin network', 'Hadronization', 'Mackay railway station', 'CP violation', 'CLAS detector', 'psi meson', 'Fundamental interaction', 'B-factory', 'Loop quantum gravity', 'James Clerk Maxwell', 'Einstein tensor', 'Tevatron', 'KMVP-FM', 'Weak isospin', 'Nikolay Bogolyubov', 'Rotating wave approximation', 'M2-brane', 'Majorana equation', 'MINOS', 'Hendrik Lorentz', 'Muon', 'Fisher information', 'Conformal supergravity', 'Statistical physics', 'NuMI', 'Sterile neutrino', 'Spectral color', 'Peter Higgs', 'Back-reaction', 'Kronecker delta', 'Kerr metric', 'Pattern formation', 'C-symmetry', 'Color charge', 'Euclidean space', 'Etal']\n"
     ]
    }
   ],
   "source": [
    "print(random.sample(list(tax[tax['Level_2']=='21_17'].index),50))"
   ]
  },
  {
   "cell_type": "code",
   "execution_count": 30,
   "id": "c042764d",
   "metadata": {},
   "outputs": [
    {
     "name": "stdout",
     "output_type": "stream",
     "text": [
      "['National Bureau of Economic Research', 'Statistical process control', 'Quasi-likelihood', 'Asset-backed security', 'Taobao', 'Exponential discounting', 'Cash-in-advance constraint', 'Exchange (organized market)', 'Monetary policy', 'Initial public offering', 'Conditional expectation', 'Russell 2000 Index', 'Balanced-growth equilibrium', 'Federal Open Market Committee', 'Future Profits', 'Intertemporal choice', 'Fixed effects model', 'Market manipulation', 'Carsharing', 'Monetary Policy Committee', 'Bootstrap model', 'Total set', 'Control variates', 'Acid Rain Program', 'Tax noncompliance', 'Credit derivative', 'Core inflation', 'Giffen good', 'Frequentist inference', 'Dependent and independent variables', 'Stay Positive (album)', 'Tick size', 'Headline inflation', 'Double-loop learning', 'Valuation (algebra)', 'Leybourne', 'Vine copula', 'Super-spreader', 'Commodity market', 'Credit bureau', 'EViews', 'Taxation in Japan', 'Accounts receivable', 'Tracking error', 'World oil market chronology from 2003', 'Herd behavior', 'Unemployment benefits', 'Information asymmetry', 'Principal–agent problem', 'Bombay Stock Exchange']\n"
     ]
    }
   ],
   "source": [
    "print(random.sample(list(tax[tax['Level_2']=='21_3'].index),50))"
   ]
  },
  {
   "cell_type": "markdown",
   "id": "8b4f60f5",
   "metadata": {},
   "source": [
    "## Level 3 "
   ]
  },
  {
   "cell_type": "markdown",
   "id": "a2db1630",
   "metadata": {},
   "source": [
    "Subtopic 44 is the most prevalent subtopic within 21 for both Publications and Patents, which generally appears to be about networking, but contains other algorithmic terms as well."
   ]
  },
  {
   "cell_type": "code",
   "execution_count": 67,
   "id": "60d22c43",
   "metadata": {},
   "outputs": [
    {
     "name": "stdout",
     "output_type": "stream",
     "text": [
      "['Cross-layer optimization', 'Molecular communication', 'Ethernet', 'Signal processing', 'OPNET', 'Service Access Point', 'Connected car', 'Optical communication', 'Repetition code', 'Software-defined radio', 'Adaptive coding', 'Base station', 'Spatial multiplexing', 'End-to-end delay', 'Telnet', 'Mesh networking', 'Viterbi algorithm', 'Convex optimization', 'Small cell', 'Network interface device', 'Location identifier', 'IEEE 802.16', 'Routing table', 'Network planning and design', 'Finite impulse response', 'Time to live', 'Fully qualified domain name', 'Value-added service', 'Bandwidth management', 'GERAN', 'Spectral density', 'Speech synthesis', 'Probabilistic neural network', 'Radio propagation', 'Operations support system', 'IPv4', 'Defragmentation', 'Dynamic Adaptive Streaming over HTTP', 'IEEE 802.11', 'Edge computing', 'Picocell', 'Mobile edge computing', 'Compressed sensing', 'Diversity scheme', 'Error detection and correction', 'Superframe', 'Adaptive switching', 'Synchronous optical networking', 'Link adaptation', 'Pairwise error probability']\n"
     ]
    }
   ],
   "source": [
    "print(random.sample(list(tax[tax['Level_2']=='21_44'].index),50))"
   ]
  },
  {
   "cell_type": "code",
   "execution_count": 39,
   "id": "c9f98beb",
   "metadata": {},
   "outputs": [],
   "source": [
    "oa3 = openalex_with_coocc_topics(level = 3)\n",
    "patents3 = patents_with_coocc_topics(level = 3)"
   ]
  },
  {
   "cell_type": "markdown",
   "id": "c48d3456",
   "metadata": {},
   "source": [
    "### OpenAlex "
   ]
  },
  {
   "cell_type": "code",
   "execution_count": 43,
   "id": "c27110e7",
   "metadata": {},
   "outputs": [],
   "source": [
    "blah, oa3dist = topic_distributions(oa3)\n",
    "oa3dist21_44 = {k: v for k, v in oa3dist.items() if k[:5] == '21_44'}"
   ]
  },
  {
   "cell_type": "code",
   "execution_count": 47,
   "id": "c855819e",
   "metadata": {},
   "outputs": [
    {
     "data": {
      "text/plain": [
       "<BarContainer object of 45 artists>"
      ]
     },
     "execution_count": 47,
     "metadata": {},
     "output_type": "execute_result"
    },
    {
     "data": {
      "image/png": "[encoded data removed]",
      "text/plain": [
       "<Figure size 1500x500 with 1 Axes>"
      ]
     },
     "metadata": {},
     "output_type": "display_data"
    }
   ],
   "source": [
    "plt.rcParams[\"figure.figsize\"] = (15,5)\n",
    "plt.bar([int(key.split(\"_\")[2]) for key in oa3dist21_44.keys()], oa3dist21_44.values(), tick_label = [int(key.split(\"_\")[2]) for key in oa3dist21_44.keys()])"
   ]
  },
  {
   "cell_type": "markdown",
   "id": "77b6d6cd",
   "metadata": {},
   "source": [
    "### Patents "
   ]
  },
  {
   "cell_type": "code",
   "execution_count": 48,
   "id": "57910e0c",
   "metadata": {},
   "outputs": [],
   "source": [
    "blah, patents3dist = topic_distributions(patents3)\n",
    "patents3dist21_44 = {k: v for k, v in patents3dist.items() if k[:5] == '21_44'}"
   ]
  },
  {
   "cell_type": "code",
   "execution_count": 49,
   "id": "9c96f0d0",
   "metadata": {},
   "outputs": [
    {
     "data": {
      "text/plain": [
       "<BarContainer object of 45 artists>"
      ]
     },
     "execution_count": 49,
     "metadata": {},
     "output_type": "execute_result"
    },
    {
     "data": {
      "image/png": "[encoded data removed]",
      "text/plain": [
       "<Figure size 1500x500 with 1 Axes>"
      ]
     },
     "metadata": {},
     "output_type": "display_data"
    }
   ],
   "source": [
    "plt.bar([int(key.split(\"_\")[2]) for key in patents3dist21_44.keys()], patents3dist21_44.values(), tick_label = [int(key.split(\"_\")[2]) for key in patents3dist21_44.keys()])"
   ]
  },
  {
   "cell_type": "markdown",
   "id": "1457e744",
   "metadata": {},
   "source": [
    "### Interesting Findings "
   ]
  },
  {
   "cell_type": "markdown",
   "id": "f2e3e781",
   "metadata": {},
   "source": [
    "The distribution of sub-sub-topics within sub-topic 44 is much more skewed for publications. Publications within this sub-stopic, are predominantly about sub-sub topic 6, which is about algorithmic optimisation. "
   ]
  },
  {
   "cell_type": "code",
   "execution_count": 65,
   "id": "fcd29aa2",
   "metadata": {},
   "outputs": [
    {
     "name": "stdout",
     "output_type": "stream",
     "text": [
      "['Unmanned aerial vehicle', 'Multiple edges', 'Guangzhou Bus Rapid Transit', 'MSISDN', 'Fractional programming', 'Mobile edge computing', 'Supply chain optimization', 'Proximal gradient methods for learning', 'Hadamard matrix', 'Extremely high frequency', 'Convex optimization', 'Coordinate descent', 'Nonnegative matrix', 'Mathematical optimization', 'Demand load', 'Stochastic optimization', 'Ky Fan', 'Duality (optimization)', 'Edge computing', 'Segment routing', 'Value-added service', 'Lyapunov optimization', 'Microsoft Edge', 'Content delivery network', 'Algorithm']\n"
     ]
    }
   ],
   "source": [
    "print(list(tax[tax['Level_3']=='21_44_6'].index))"
   ]
  },
  {
   "cell_type": "markdown",
   "id": "a7b3859c",
   "metadata": {},
   "source": [
    "There are a significant number of patents in may other sub-sub topics within sub-topic 44, such as 3 and 39 which both appear to be about telecommunications. "
   ]
  },
  {
   "cell_type": "code",
   "execution_count": 71,
   "id": "d82143ce",
   "metadata": {},
   "outputs": [
    {
     "name": "stdout",
     "output_type": "stream",
     "text": [
      "['E-UTRA', 'Media gateway', 'Packet radio', 'Mobile radio', 'Radio access network', 'UMTS Terrestrial Radio Access Network', 'Information system', 'Network switching subsystem', 'Source Radio', 'Mobile phone', 'System Architecture Evolution', 'Legacy system', 'Circuit switching', 'Voice call continuity', 'New York Call', 'GSM', 'General Packet Radio Service', 'GPRS core network', 'GERAN', 'High Speed Packet Access', 'UMTS (telecommunication)', 'Access stratum', 'Radio Network Controller', 'Telecommunications network']\n",
      "['Multimedia Broadcast Multicast Service', 'Single-frequency network', 'Push-to-talk', '3GPP', 'LTE (telecommunication)', 'Communications system']\n"
     ]
    }
   ],
   "source": [
    "print(list(tax[tax['Level_3']=='21_44_3'].index))\n",
    "print(list(tax[tax['Level_3']=='21_44_39'].index))"
   ]
  }
 ],
 "metadata": {
  "kernelspec": {
   "display_name": "Python 3 (ipykernel)",
   "language": "python",
   "name": "python3"
  },
  "language_info": {
   "codemirror_mode": {
    "name": "ipython",
    "version": 3
   },
   "file_extension": ".py",
   "mimetype": "text/x-python",
   "name": "python",
   "nbconvert_exporter": "python",
   "pygments_lexer": "ipython3",
   "version": "3.8.0"
  }
 },
 "nbformat": 4,
 "nbformat_minor": 5
}
