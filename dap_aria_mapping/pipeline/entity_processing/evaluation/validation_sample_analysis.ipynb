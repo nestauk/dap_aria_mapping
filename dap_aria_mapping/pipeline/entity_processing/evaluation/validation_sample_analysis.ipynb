{
 "cells": [
  {
   "cell_type": "code",
   "execution_count": 204,
   "id": "c369cb11",
   "metadata": {},
   "outputs": [
    {
     "data": {
      "text/plain": [
       "'\\nThis notebook analyses the labelled validation sample of entities to determine:\\n    - the appropriate confidence score threshold for good entities \\n    - how well spaCy post-processing performs\\n'"
      ]
     },
     "execution_count": 204,
     "metadata": {},
     "output_type": "execute_result"
    }
   ],
   "source": [
    "\"\"\"\n",
    "This notebook analyses the labelled validation sample of entities to determine:\n",
    "    - The appropriate confidence score threshold for good entities \n",
    "    - The decision to use spaCy post-processing\n",
    "    - \n",
    "\"\"\""
   ]
  },
  {
   "cell_type": "code",
   "execution_count": 226,
   "id": "40e8364a",
   "metadata": {},
   "outputs": [],
   "source": [
    "from nesta_ds_utils.loading_saving.S3 import download_obj\n",
    "from dap_aria_mapping import BUCKET_NAME\n",
    "\n",
    "from sklearn.metrics import precision_score, recall_score, f1_score, accuracy_score, ConfusionMatrixDisplay, confusion_matrix"
   ]
  },
  {
   "cell_type": "markdown",
   "id": "5266e0ea",
   "metadata": {},
   "source": [
    "#### 0. Load labelled validation sample"
   ]
  },
  {
   "cell_type": "code",
   "execution_count": 185,
   "id": "cfb0862d",
   "metadata": {},
   "outputs": [],
   "source": [
    "LABELLED_VALIDATION_SAMPLE_PATH = 'inputs/data_collection/labelled_entity_validation_sample.csv'\n",
    "\n",
    "validation_sample = (download_obj(BUCKET_NAME, LABELLED_VALIDATION_SAMPLE_PATH, 'dataframe')\n",
    "                     .rename(columns={'spacy_label [0 - entity to keep, 1 - entity to remove]': 'spacy_label'}))     \n",
    "labelled_validation_sample = (validation_sample\n",
    "                             .query('~`bad_entity?`.isna()'))                       "
   ]
  },
  {
   "cell_type": "markdown",
   "id": "40e25cbc",
   "metadata": {},
   "source": [
    "#### 1. Summary statistics"
   ]
  },
  {
   "cell_type": "code",
   "execution_count": 186,
   "id": "e53958e4",
   "metadata": {},
   "outputs": [
    {
     "name": "stdout",
     "output_type": "stream",
     "text": [
      "200 entities were labelled.\n",
      "56 unique documents were labelled.\n",
      "34 or 17.0% of entities would be removed based on spaCy post-processing.\n",
      "75.0% of entities are entities we want to keep.\n",
      "25.0% of entities are entities we want to remove.\n"
     ]
    }
   ],
   "source": [
    "print(f\"{len(labelled_validation_sample)} entities were labelled.\")\n",
    "print(f\"{labelled_validation_sample.document_id.nunique()} unique documents were labelled.\")\n",
    "\n",
    "print(f\"{labelled_validation_sample.spacy_label.value_counts()[1]} or {labelled_validation_sample.spacy_label.value_counts(normalize=True)[1]*100}% of entities would be removed based on spaCy post-processing.\")\n",
    "\n",
    "print(f\"{labelled_validation_sample['bad_entity?'].value_counts(normalize=True)[0]*100}% of entities are entities we want to keep.\" )\n",
    "print(f\"{labelled_validation_sample['bad_entity?'].value_counts(normalize=True)[1]*100}% of entities are entities we want to remove.\" )"
   ]
  },
  {
   "cell_type": "code",
   "execution_count": null,
   "id": "04a4c6e6",
   "metadata": {},
   "outputs": [],
   "source": []
  },
  {
   "cell_type": "code",
   "execution_count": 187,
   "id": "1301cac9",
   "metadata": {},
   "outputs": [
    {
     "data": {
      "text/plain": [
       "false_positive              39\n",
       "entity_we_want_to_remove     5\n",
       "low_confidence_score         3\n",
       "bad_class                    1\n",
       "Name: bad_entity_reason, dtype: int64"
      ]
     },
     "execution_count": 187,
     "metadata": {},
     "output_type": "execute_result"
    }
   ],
   "source": [
    "labelled_validation_sample.bad_entity_reason.value_counts()\n",
    "\n",
    "#entities largely labelled as false positive"
   ]
  },
  {
   "cell_type": "markdown",
   "id": "206300b0",
   "metadata": {},
   "source": [
    "#### 2. Confidence scores"
   ]
  },
  {
   "cell_type": "code",
   "execution_count": 188,
   "id": "41d09b36",
   "metadata": {},
   "outputs": [
    {
     "name": "stdout",
     "output_type": "stream",
     "text": [
      "the average confidence score of bad entities is 61.2\n",
      "the median confidence score of bad entities is 60.0\n",
      "---------\n",
      "the average confidence score of good entities is 74.0\n",
      "the median confidence score of good entities is 70.0\n"
     ]
    }
   ],
   "source": [
    "print(f\"the average confidence score of bad entities is {labelled_validation_sample[labelled_validation_sample['bad_entity?'] == 'yes'].confidence_score.mean()}\") \n",
    "print(f\"the median confidence score of bad entities is {labelled_validation_sample[labelled_validation_sample['bad_entity?'] == 'yes'].confidence_score.median()}\") \n",
    "print('---------')\n",
    "print(f\"the average confidence score of good entities is {labelled_validation_sample[labelled_validation_sample['bad_entity?'] == 'no'].confidence_score.mean()}\") \n",
    "print(f\"the median confidence score of good entities is {labelled_validation_sample[labelled_validation_sample['bad_entity?'] == 'no'].confidence_score.median()}\") \n",
    "\n"
   ]
  },
  {
   "cell_type": "code",
   "execution_count": 189,
   "id": "dfa11eec",
   "metadata": {},
   "outputs": [
    {
     "data": {
      "text/plain": [
       "<AxesSubplot: >"
      ]
     },
     "execution_count": 189,
     "metadata": {},
     "output_type": "execute_result"
    },
    {
     "data": {
      "image/png": "[encoded data removed]",
      "text/plain": [
       "<Figure size 432x288 with 1 Axes>"
      ]
     },
     "metadata": {
      "needs_background": "light"
     },
     "output_type": "display_data"
    }
   ],
   "source": [
    "labelled_validation_sample[labelled_validation_sample['bad_entity?'] == 'yes'].confidence_score.hist(bins=5)"
   ]
  },
  {
   "cell_type": "code",
   "execution_count": 190,
   "id": "8d543b66",
   "metadata": {},
   "outputs": [
    {
     "data": {
      "text/plain": [
       "<AxesSubplot: >"
      ]
     },
     "execution_count": 190,
     "metadata": {},
     "output_type": "execute_result"
    },
    {
     "data": {
      "image/png": "[encoded data removed]",
      "text/plain": [
       "<Figure size 432x288 with 1 Axes>"
      ]
     },
     "metadata": {
      "needs_background": "light"
     },
     "output_type": "display_data"
    }
   ],
   "source": [
    "labelled_validation_sample[labelled_validation_sample['bad_entity?'] == 'no'].confidence_score.hist(bins=5)"
   ]
  },
  {
   "cell_type": "code",
   "execution_count": 254,
   "id": "fbecbeb3",
   "metadata": {},
   "outputs": [
    {
     "name": "stdout",
     "output_type": "stream",
     "text": [
      "At confidence threshold 60, 43.34975369458128% of entities would be removed\n",
      "At confidence threshold 60, 81.25% of entities are labelled 'good'\n",
      "---\n",
      "At confidence threshold 70, 57.389162561576356% of entities would be removed\n",
      "At confidence threshold 70, 88.78504672897196% of entities are labelled 'good'\n",
      "---\n",
      "At confidence threshold 80, 65.02463054187191% of entities would be removed\n",
      "At confidence threshold 80, 87.34177215189874% of entities are labelled 'good'\n",
      "---\n",
      "At confidence threshold 90, 88.66995073891626% of entities would be removed\n",
      "At confidence threshold 90, 91.04477611940298% of entities are labelled 'good'\n",
      "---\n"
     ]
    }
   ],
   "source": [
    "confidence_thresholds = [60, 70, 80, 90]\n",
    "for thresh in confidence_thresholds:\n",
    "    ent_percent_removed = len(validation_sample.query(f\"confidence_score <= {thresh}\"))/len(validation_sample)\n",
    "    good_ent_percent = len(labelled_validation_sample[(labelled_validation_sample['bad_entity?'] == 'no') & (labelled_validation_sample['confidence_score'] >= thresh)])/len(labelled_validation_sample.query(f\"confidence_score >= {thresh}\"))\n",
    "    print(f\"At confidence threshold {thresh}, {ent_percent_removed*100}% of entities would be removed\")\n",
    "    print(f\"At confidence threshold {thresh}, {good_ent_percent*100}% of entities are labelled 'good'\")\n",
    "    print('---')\n",
    "\n",
    "# looks like confidence scores go in multiples of 10 - I reckon 70 or 80 is optimal   "
   ]
  },
  {
   "cell_type": "code",
   "execution_count": 249,
   "id": "f3d1c48e",
   "metadata": {},
   "outputs": [
    {
     "data": {
      "text/plain": [
       "0.6647727272727273"
      ]
     },
     "execution_count": 249,
     "metadata": {},
     "output_type": "execute_result"
    }
   ],
   "source": [
    "len(labelled_validation_sample[(labelled_validation_sample['bad_entity?'] == 'no') & (labelled_validation_sample['confidence_score'] >= 60)])/len(validation_sample.query(f\"confidence_score <= {60}\"))"
   ]
  },
  {
   "cell_type": "markdown",
   "id": "f823755c",
   "metadata": {},
   "source": [
    "#### 3. spaCy post-processing performance"
   ]
  },
  {
   "cell_type": "code",
   "execution_count": 240,
   "id": "dcec93cb",
   "metadata": {},
   "outputs": [
    {
     "name": "stdout",
     "output_type": "stream",
     "text": [
      "0.7647058823529411% of entities that would be post-processed are incorrectly labelled\n"
     ]
    }
   ],
   "source": [
    "print(f\"{len(labelled_validation_sample[(labelled_validation_sample['bad_spacy_label?'] == 'yes') & (labelled_validation_sample['spacy_label'] == 1)])/len(labelled_validation_sample[labelled_validation_sample['spacy_label'] == 1])}% of entities that would be post-processed are incorrectly labelled\")"
   ]
  },
  {
   "cell_type": "code",
   "execution_count": 241,
   "id": "90c24e5d",
   "metadata": {},
   "outputs": [],
   "source": [
    "def convert_bad_spacy_label(spacy_label, bad_spacy_label):\n",
    "    if bad_spacy_label == 'yes':\n",
    "        if spacy_label == 1:\n",
    "            return 0\n",
    "        else:\n",
    "            return 1\n",
    "    else:\n",
    "        return spacy_label"
   ]
  },
  {
   "cell_type": "code",
   "execution_count": 242,
   "id": "130bd70c",
   "metadata": {},
   "outputs": [],
   "source": [
    "y_pred = labelled_validation_sample.spacy_label\n",
    "y_true = labelled_validation_sample.apply(lambda x: convert_bad_spacy_label(x['spacy_label'], x['bad_spacy_label?']), axis=1)"
   ]
  },
  {
   "cell_type": "code",
   "execution_count": 243,
   "id": "e8b88cb1",
   "metadata": {},
   "outputs": [
    {
     "name": "stdout",
     "output_type": "stream",
     "text": [
      "{'accuracy': 0.86, 'precision': 0.23529411764705882, 'recall': 0.8, 'f1': 0.3636363636363636}\n"
     ]
    }
   ],
   "source": [
    "scores = {\n",
    "            \"accuracy\": accuracy_score(y_true, y_pred),\n",
    "            \"precision\": precision_score(y_true, y_pred),\n",
    "            \"recall\": recall_score(y_true, y_pred),\n",
    "            \"f1\": f1_score(y_true, y_pred),\n",
    "        }\n",
    "\n",
    "print(scores)"
   ]
  },
  {
   "cell_type": "code",
   "execution_count": 244,
   "id": "7fd9d1b2",
   "metadata": {},
   "outputs": [
    {
     "data": {
      "text/plain": [
       "<sklearn.metrics._plot.confusion_matrix.ConfusionMatrixDisplay at 0x7ff424a0c2e0>"
      ]
     },
     "execution_count": 244,
     "metadata": {},
     "output_type": "execute_result"
    },
    {
     "data": {
      "image/png": "[encoded data removed]",
      "text/plain": [
       "<Figure size 432x288 with 2 Axes>"
      ]
     },
     "metadata": {
      "needs_background": "light"
     },
     "output_type": "display_data"
    }
   ],
   "source": [
    "cm = confusion_matrix(y_true, y_pred)\n",
    "disp = ConfusionMatrixDisplay(confusion_matrix=cm)\n",
    "disp.plot()\n",
    "\n",
    "# precision is VERY low - did well with companies house data for AI genomics but the incidence of extracting\n",
    "# people, money and company names in patent abstracts is very low - I'd hazard the same for publication abstracts  "
   ]
  },
  {
   "cell_type": "code",
   "execution_count": null,
   "id": "5fdfea31",
   "metadata": {},
   "outputs": [],
   "source": []
  }
 ],
 "metadata": {
  "jupytext": {
   "cell_metadata_filter": "-all",
   "comment_magics": true
  },
  "kernelspec": {
   "display_name": "dap_aria_mapping",
   "language": "python",
   "name": "dap_aria_mapping"
  },
  "language_info": {
   "codemirror_mode": {
    "name": "ipython",
    "version": 3
   },
   "file_extension": ".py",
   "mimetype": "text/x-python",
   "name": "python",
   "nbconvert_exporter": "python",
   "pygments_lexer": "ipython3",
   "version": "3.9.12"
  }
 },
 "nbformat": 4,
 "nbformat_minor": 5
}
